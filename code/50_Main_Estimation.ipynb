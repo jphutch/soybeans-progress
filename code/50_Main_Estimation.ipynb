{
 "cells": [
  {
   "cell_type": "markdown",
   "id": "1900a304",
   "metadata": {},
   "source": [
    "# Estimation\n",
    "\n",
    "In this notebook, we estimate the main model in all its configurations as well as robustness checks like company panel and limiting regions"
   ]
  },
  {
   "cell_type": "markdown",
   "id": "3804dddc",
   "metadata": {},
   "source": [
    "## Preliminaries\n",
    "### Packages"
   ]
  },
  {
   "cell_type": "code",
   "execution_count": 1,
   "id": "1a5ac721",
   "metadata": {
    "scrolled": true
   },
   "outputs": [
    {
     "name": "stderr",
     "output_type": "stream",
     "text": [
      "Loading required package: MASS\n",
      "\n",
      "Loading required package: stargazer\n",
      "\n",
      "\n",
      "Please cite as: \n",
      "\n",
      "\n",
      " Hlavac, Marek (2022). stargazer: Well-Formatted Regression and Summary Statistics Tables.\n",
      "\n",
      " R package version 5.2.3. https://CRAN.R-project.org/package=stargazer \n",
      "\n",
      "\n",
      "Loading required package: lfe\n",
      "\n",
      "Loading required package: Matrix\n",
      "\n",
      "Loading required package: ggplot2\n",
      "\n",
      "Loading required package: dplyr\n",
      "\n",
      "\n",
      "Attaching package: 'dplyr'\n",
      "\n",
      "\n",
      "The following object is masked from 'package:MASS':\n",
      "\n",
      "    select\n",
      "\n",
      "\n",
      "The following objects are masked from 'package:stats':\n",
      "\n",
      "    filter, lag\n",
      "\n",
      "\n",
      "The following objects are masked from 'package:base':\n",
      "\n",
      "    intersect, setdiff, setequal, union\n",
      "\n",
      "\n",
      "Loading required package: strucchange\n",
      "\n",
      "Loading required package: zoo\n",
      "\n",
      "\n",
      "Attaching package: 'zoo'\n",
      "\n",
      "\n",
      "The following objects are masked from 'package:base':\n",
      "\n",
      "    as.Date, as.Date.numeric\n",
      "\n",
      "\n",
      "Loading required package: sandwich\n",
      "\n",
      "Loading required package: gap\n",
      "\n",
      "Loading required package: gap.datasets\n",
      "\n",
      "gap version 1.6\n",
      "\n",
      "Loading required package: boot\n",
      "\n",
      "Loading required package: stringr\n",
      "\n",
      "\n",
      "Attaching package: 'stringr'\n",
      "\n",
      "\n",
      "The following object is masked from 'package:strucchange':\n",
      "\n",
      "    boundary\n",
      "\n",
      "\n"
     ]
    },
    {
     "data": {
      "text/html": [
       "<ol>\n",
       "\t<li>TRUE</li>\n",
       "\t<li>TRUE</li>\n",
       "\t<li>TRUE</li>\n",
       "\t<li>TRUE</li>\n",
       "\t<li>TRUE</li>\n",
       "\t<li>TRUE</li>\n",
       "\t<li>TRUE</li>\n",
       "\t<li>TRUE</li>\n",
       "\t<li>TRUE</li>\n",
       "</ol>\n"
      ],
      "text/latex": [
       "\\begin{enumerate}\n",
       "\\item TRUE\n",
       "\\item TRUE\n",
       "\\item TRUE\n",
       "\\item TRUE\n",
       "\\item TRUE\n",
       "\\item TRUE\n",
       "\\item TRUE\n",
       "\\item TRUE\n",
       "\\item TRUE\n",
       "\\end{enumerate}\n"
      ],
      "text/markdown": [
       "1. TRUE\n",
       "2. TRUE\n",
       "3. TRUE\n",
       "4. TRUE\n",
       "5. TRUE\n",
       "6. TRUE\n",
       "7. TRUE\n",
       "8. TRUE\n",
       "9. TRUE\n",
       "\n",
       "\n"
      ],
      "text/plain": [
       "[[1]]\n",
       "[1] TRUE\n",
       "\n",
       "[[2]]\n",
       "[1] TRUE\n",
       "\n",
       "[[3]]\n",
       "[1] TRUE\n",
       "\n",
       "[[4]]\n",
       "[1] TRUE\n",
       "\n",
       "[[5]]\n",
       "[1] TRUE\n",
       "\n",
       "[[6]]\n",
       "[1] TRUE\n",
       "\n",
       "[[7]]\n",
       "[1] TRUE\n",
       "\n",
       "[[8]]\n",
       "[1] TRUE\n",
       "\n",
       "[[9]]\n",
       "[1] TRUE\n"
      ]
     },
     "metadata": {},
     "output_type": "display_data"
    }
   ],
   "source": [
    "lapply(c('MASS','stargazer',\"lfe\",\"ggplot2\",\"dplyr\",\"strucchange\",\"gap\",\"boot\",\"stringr\"), require, character.only = TRUE)"
   ]
  },
  {
   "cell_type": "markdown",
   "id": "f16e094d",
   "metadata": {},
   "source": [
    "### Data"
   ]
  },
  {
   "cell_type": "code",
   "execution_count": 3,
   "id": "5af64bab",
   "metadata": {},
   "outputs": [],
   "source": [
    "df2 <- read.csv(\"../data/output_data/MG2_Private.csv\")\n",
    "df3 <- read.csv(\"../data/output_data/MG3_Private.csv\")"
   ]
  },
  {
   "cell_type": "code",
   "execution_count": 4,
   "id": "61cf53e4",
   "metadata": {},
   "outputs": [],
   "source": [
    "DF2_CC <- df2 %>%                              # Applying group_by & summarise\n",
    "                  group_by(year) %>%\n",
    "                  summarise(count = n_distinct(company_name))\n",
    "\n",
    "DF3_CC <- df3 %>%                              # Applying group_by & summarise\n",
    "                  group_by(year) %>%\n",
    "                  summarise(count = n_distinct(company_name))"
   ]
  },
  {
   "cell_type": "markdown",
   "id": "d5275c80",
   "metadata": {},
   "source": [
    "Merge data together"
   ]
  },
  {
   "cell_type": "code",
   "execution_count": 5,
   "id": "0a3328e6",
   "metadata": {},
   "outputs": [],
   "source": [
    "# df2 <- merge(df2,S,by = c(\"company_name\",\"year\"), all.x = TRUE)\n",
    "# df3 <- merge(df3,S,by = c(\"company_name\",\"year\"), all.x = TRUE)\n",
    "\n",
    "df2 <- merge(df2,DF2_CC,by=\"year\",all.x=T)\n",
    "df3 <- merge(df3,DF3_CC,by=\"year\",all.x=T)"
   ]
  },
  {
   "cell_type": "code",
   "execution_count": 6,
   "id": "877d42ba",
   "metadata": {},
   "outputs": [],
   "source": [
    "df2$il_and_first <- as.numeric(df2$first_il==\"IL_and_FIRST\")\n",
    "df3$il_and_first <- as.numeric(df3$first_il==\"IL_and_FIRST\")"
   ]
  },
  {
   "cell_type": "markdown",
   "id": "e2946e98",
   "metadata": {},
   "source": [
    "To make estimates comparable, only use \"complete cases\" for both Jack and Dwight."
   ]
  },
  {
   "cell_type": "code",
   "execution_count": 7,
   "id": "5954a468",
   "metadata": {},
   "outputs": [],
   "source": [
    "df2_complete <- df2[complete.cases(df2$diff_d)&complete.cases(df2$diff_j),]\n",
    "df2_reg23 <- df2_complete[(df2_complete$region==\"region2\")|(df2_complete$region==\"region3\"),]\n",
    "df2_reg3 <- df2_complete[(df2_complete$region==\"region3\"),]\n",
    "df3_complete <- df3[complete.cases(df3$diff_w),]\n",
    "df3_reg23 <- df3_complete[(df3_complete$region==\"region2\")|(df3_complete$region==\"region3\"),]\n",
    "df3_reg3 <- df3_complete[(df3_complete$region==\"region3\"),]\n"
   ]
  },
  {
   "cell_type": "code",
   "execution_count": 8,
   "id": "595acead",
   "metadata": {},
   "outputs": [],
   "source": [
    "write.csv(df2_complete[,c(\"year\",\"variety_id\",\"region\",\"location\")],\"MG2_ix_complete.csv\")\n",
    "write.csv(df3_complete[,c(\"year\",\"variety_id\",\"region\",\"location\")],\"MG3_ix_complete.csv\")\n",
    "write.csv(df2_reg23[,c(\"year\",\"variety_id\",\"region\",\"location\")],\"MG2_ix_reg23.csv\")\n",
    "write.csv(df3_reg23[,c(\"year\",\"variety_id\",\"region\",\"location\")],\"MG3_ix_reg23.csv\")\n",
    "write.csv(df3_reg3[,c(\"year\",\"variety_id\",\"region\",\"location\")],\"MG3_ix_reg3.csv\")"
   ]
  },
  {
   "cell_type": "markdown",
   "id": "4dee7a53",
   "metadata": {},
   "source": [
    "### Variables and Formulas\n",
    "\n",
    "Covariates are:\n",
    "- height of private and base variety (`height` and `height_w/d/j`)\n",
    "- lodging score of private and base variety (`lodging` and `lodging_w/d/j`)\n",
    "- week of the year the private became mature (`maturity_week` and `maturity_week_w/d/j`) \n",
    "- week of the year the variety was planted (`planting_week` and `planting_week_w/d/j`)\n",
    "- rainfall on that plot (`ppt_may/june/july/aug/sept`)\n",
    "- location FE (`location`)\n",
    "- seed treated or not (`seed_treated`)\n",
    "- seed scn resistant or not (`scn_resist`)\n",
    "\n",
    "Outcomes are called `diff_w/d/j_norm` and are the difference between private variety yield and Williams/Dwight/Jack planted in the same location at the same time. The average yield from 1997 is also subtracted (hence the `norm` part)."
   ]
  },
  {
   "cell_type": "code",
   "execution_count": 9,
   "id": "fe5c499d",
   "metadata": {},
   "outputs": [],
   "source": [
    "Y = c(\"diff_j_norm\",\"diff_d_norm\",\"diff_w_norm\")\n",
    "\n",
    "rain =  c('ppt_may', 'ppt_june', 'ppt_july', 'ppt_aug', 'ppt_sept',\n",
    "             'ppt_may_sqr','ppt_june_sqr','ppt_july_sqr','ppt_aug_sqr','ppt_sept_sqr')\n",
    "\n",
    "temp    =  c('tmin_5','tmin_6','tmin_7','tmin_8','tmin_9',\n",
    "             'tmax_5','tmax_6','tmax_7','tmax_8','tmax_9',\n",
    "             'tmean_5','tmean_6','tmean_7','tmean_8','tmean_9')\n",
    "\n",
    "var_covars = c(\"height\",\"lodging_comb\",\"scn_resist\",\"seed_treated\")\n",
    "\n",
    "factors = c(\"location\",\"maturity_week\",\"planting_week\")\n",
    "\n",
    "covars_w = c(\"height\",\"lodging_comb\",\"height_w\",\"lodging_comb_w\",\"seed_treated\",\"scn_resist\")\n",
    "factors_w = c(\"location\",\"maturity_week\",\"maturity_week_w\",\"planting_week\")\n",
    "\n",
    "covars_j = c(\"height\",\"lodging_comb\",\"height_j\",\"lodging_comb_j\",\"seed_treated\",\"scn_resist\")\n",
    "factors_j = c(\"location\",\"maturity_week\",\"maturity_week_j\",\"planting_week\")\n",
    "\n",
    "covars_d = c(\"height\",\"lodging_comb\",\"height_d\",\"lodging_comb_d\",\"seed_treated\",\"scn_resist\")\n",
    "factors_d = c(\"location\",\"maturity_week\",\"maturity_week_d\",\"planting_week\")"
   ]
  },
  {
   "cell_type": "markdown",
   "id": "8868e955",
   "metadata": {},
   "source": [
    "Formulas are for both the `lm` object and the `felm` object."
   ]
  },
  {
   "cell_type": "code",
   "execution_count": 10,
   "id": "f20c9cb6",
   "metadata": {},
   "outputs": [],
   "source": [
    "fe_formula <- function(outcome,treat,X=var_covars,G=factors,C=\"location\") {\n",
    "  f <- paste0(outcome,\"~\",treat,\"+\",paste(X,collapse=\"+\"),\"|\",paste(G,collapse=\"+\"),\"|\",\"0\",\"|\",C)\n",
    "  return(as.formula(f))\n",
    "}\n",
    "lm_formula <- function(outcome,treat,X=var_covars) {\n",
    "  f <- paste0(outcome,\"~\",treat,\"+\",paste(X,collapse=\"+\"))\n",
    "  return(as.formula(f))\n",
    "}"
   ]
  },
  {
   "cell_type": "markdown",
   "id": "8d3efd19",
   "metadata": {},
   "source": [
    "Most simple formula (`year` is the only covariate):"
   ]
  },
  {
   "cell_type": "code",
   "execution_count": 11,
   "id": "491ade17",
   "metadata": {},
   "outputs": [],
   "source": [
    "simple <- lm_formula(\"yield\",\"year\",X=\"1\")"
   ]
  },
  {
   "cell_type": "markdown",
   "id": "a1d4b97a",
   "metadata": {},
   "source": [
    "## Main Model Estimation\n",
    "\n"
   ]
  },
  {
   "cell_type": "markdown",
   "id": "1ba9e249",
   "metadata": {},
   "source": [
    "### Main Table (Table 2 in Paper)\n",
    "##### MG 2 and MG 3 unadjusted, unadjusted with controls versus differenced, whole sample"
   ]
  },
  {
   "cell_type": "code",
   "execution_count": 12,
   "id": "b0eb2b89",
   "metadata": {},
   "outputs": [],
   "source": [
    "out <- felm(data=df2_complete,formula = fe_formula(\"yield_kg\",\"first_year\",X=c(var_covars,rain,temp)))\n",
    "DF2 <- model.frame(out)\n",
    "out <- felm(data=df2_complete,formula = fe_formula(\"yield\",\"first_year\",X=c(var_covars,rain,temp)))\n",
    "DF2b <- model.frame(out)\n",
    "out <- felm(data=df3_complete,formula = fe_formula(\"yield_kg\",\"first_year\",X=c(var_covars,rain,temp)))\n",
    "DF3 <- model.frame(out)\n",
    "out <- felm(data=df3_complete,formula = fe_formula(\"yield\",\"first_year\",X=c(var_covars,rain,temp)))\n",
    "DF3b <- model.frame(out)\n",
    "\n",
    "# With covars, kg/ha\n",
    "compare_gg2_x = list(lm(data=DF2,formula = \"yield_kg ~first_year\"),\n",
    "                felm(data=df2_complete,formula = fe_formula(\"yield_kg\",\"first_year\",X=c(var_covars,rain,temp))),\n",
    "                felm(data=df2_complete,formula = fe_formula(\"diff_kg_j\",\"first_year\",X=c(covars_j,rain,temp),G=factors_j)),\n",
    "                felm(data=df2_complete,formula = fe_formula(\"diff_kg_d\",\"first_year\",X=c(covars_d,rain,temp),G=factors_d)))\n",
    "\n",
    "compare_gg3_x = list(lm(data=DF3 ,formula = \"yield_kg ~ first_year\"),\n",
    "                     felm(data=df3_complete,formula = fe_formula(\"yield_kg\",\"first_year\",X=c(var_covars,rain,temp))),\n",
    "                     felm(data=df3_complete,formula = fe_formula(\"diff_kg_w\",\"first_year\",X=c(covars_w,rain,temp),G=factors_w)))\n",
    "\n",
    "# With covars, bu/acr\n",
    "compare_gg2_bu_x = list(lm(data=DF2b,formula = \"yield ~ first_year\"),\n",
    "                felm(data=df2_complete,formula = fe_formula(\"yield\",\"first_year\",X=c(var_covars,rain,temp))),\n",
    "                felm(data=df2_complete,formula = fe_formula(\"diff_j\",\"first_year\",X=c(covars_j,rain,temp),G=factors_j)),\n",
    "                felm(data=df2_complete,formula = fe_formula(\"diff_d\",\"first_year\",X=c(covars_d,rain,temp),G=factors_d)))\n",
    "\n",
    "compare_gg3_bu_x = list(lm(data=DF3b ,formula = \"yield ~ first_year\"),\n",
    "                     felm(data=df3_complete,formula = fe_formula(\"yield\",\"first_year\",X=c(var_covars,rain,temp))),\n",
    "                     felm(data=df3_complete,formula = fe_formula(\"diff_w\",\"first_year\",X=c(covars_w,rain,temp),G=factors_w)))\n",
    "\n",
    "# With covars and GE interaction\n",
    "diff_gg_ge_kg =  list(felm(data=df2_complete,formula = fe_formula(\"diff_kg_d\",\"first_year + GE + GE:first_year \",X=c(covars_d,rain,temp),G=factors_d)),\n",
    "                      felm(data=df2_complete,formula = fe_formula(\"diff_kg_j\",\"first_year  + GE + GE:first_year \",X=c(covars_j,rain,temp),G=factors_j)),\n",
    "                      felm(data=df3_complete,formula = fe_formula(\"diff_kg_w\",\"first_year  + GE + GE:first_year \",X=c(covars_w,rain,temp),G=factors_w)))\n",
    "\n",
    "diff_gg_ge = list(felm(data=df2_complete,formula = fe_formula(\"diff_d\",\"first_year  + GE + GE:first_year \",X=c(covars_d,rain,temp),G=factors_d)),\n",
    "                      felm(data=df2_complete,formula = fe_formula(\"diff_j\",\"first_year  + GE + GE:first_year \",X=c(covars_j,rain,temp),G=factors_j)),\n",
    "                      felm(data=df3_complete,formula = fe_formula(\"diff_w\",\"first_year  + GE + GE:first_year \",X=c(covars_w,rain,temp),G=factors_w)))"
   ]
  },
  {
   "cell_type": "code",
   "execution_count": 13,
   "id": "5fcc0ce0",
   "metadata": {},
   "outputs": [
    {
     "name": "stdout",
     "output_type": "stream",
     "text": [
      "\n",
      "% Table created by stargazer v.5.2.3 by Marek Hlavac, Social Policy Institute. E-mail: marek.hlavac at gmail.com\n",
      "% Date and time: Tue, Dec 10, 2024 - 3:27:38 PM\n",
      "\\begin{table}[!htbp] \\centering \n",
      "  \\caption{} \n",
      "  \\label{} \n",
      "\\begin{tabular}{@{\\extracolsep{5pt}}lcccc} \n",
      "\\\\[-1.8ex]\\hline \n",
      "\\hline \\\\[-1.8ex] \n",
      " & \\multicolumn{4}{c}{\\textit{Dependent variable:}} \\\\ \n",
      "\\cline{2-5} \n",
      "\\\\[-1.8ex] & Unadj. & Unadj., Controls & Adj. Jack & Adj. Dwight \\\\ \n",
      "\\\\[-1.8ex] & \\textit{OLS} & \\textit{felm} & \\textit{felm} & \\textit{felm} \\\\ \n",
      "\\\\[-1.8ex] & (1) & (2) & (3) & (4)\\\\ \n",
      "\\hline \\\\[-1.8ex] \n",
      " Year Trend & 47.784$^{***}$ & 29.735$^{***}$ & 25.226$^{***}$ & 26.413$^{***}$ \\\\ \n",
      "  & (0.697) & (7.936) & (3.534) & (3.069) \\\\ \n",
      "  & & & & \\\\ \n",
      "\\hline \\\\[-1.8ex] \n",
      "Observations & 23,207 & 23,207 & 23,207 & 23,207 \\\\ \n",
      "Adjusted R$^{2}$ & 0.168 & 0.534 & 0.449 & 0.455 \\\\ \n",
      "\\hline \n",
      "\\hline \\\\[-1.8ex] \n",
      "\\textit{Note:}  & \\multicolumn{4}{r}{$^{*}$p$<$0.1; $^{**}$p$<$0.05; $^{***}$p$<$0.01} \\\\ \n",
      "\\end{tabular} \n",
      "\\end{table} \n",
      "\n",
      "% Table created by stargazer v.5.2.3 by Marek Hlavac, Social Policy Institute. E-mail: marek.hlavac at gmail.com\n",
      "% Date and time: Tue, Dec 10, 2024 - 3:27:38 PM\n",
      "\\begin{table}[!htbp] \\centering \n",
      "  \\caption{} \n",
      "  \\label{} \n",
      "\\begin{tabular}{@{\\extracolsep{5pt}}lccc} \n",
      "\\\\[-1.8ex]\\hline \n",
      "\\hline \\\\[-1.8ex] \n",
      " & \\multicolumn{3}{c}{\\textit{Dependent variable:}} \\\\ \n",
      "\\cline{2-4} \n",
      "\\\\[-1.8ex] & Unadj. & Unadj., Controls & Adj. Williams \\\\ \n",
      "\\\\[-1.8ex] & \\textit{OLS} & \\textit{felm} & \\textit{felm} \\\\ \n",
      "\\\\[-1.8ex] & (1) & (2) & (3)\\\\ \n",
      "\\hline \\\\[-1.8ex] \n",
      " Year Trend & 54.412$^{***}$ & 35.926$^{***}$ & 25.664$^{***}$ \\\\ \n",
      "  & (0.669) & (4.586) & (4.073) \\\\ \n",
      "  & & & \\\\ \n",
      "\\hline \\\\[-1.8ex] \n",
      "Observations & 27,233 & 27,233 & 27,233 \\\\ \n",
      "Adjusted R$^{2}$ & 0.196 & 0.622 & 0.375 \\\\ \n",
      "\\hline \n",
      "\\hline \\\\[-1.8ex] \n",
      "\\textit{Note:}  & \\multicolumn{3}{r}{$^{*}$p$<$0.1; $^{**}$p$<$0.05; $^{***}$p$<$0.01} \\\\ \n",
      "\\end{tabular} \n",
      "\\end{table} \n"
     ]
    }
   ],
   "source": [
    "stargazer(c(compare_gg2_x),\n",
    "          keep=\"year\",\n",
    "          keep.stat = c(\"adj.rsq\",\"n\"),\n",
    "          covariate.labels=c(\"Year Trend\"),\n",
    "          dep.var.labels=c(\"Unadj.\",\"Unadj., Controls\", \"Adj. Jack\", \"Adj. Dwight\"))\n",
    "          \n",
    "         # out=\"ex.doc\")\n",
    "\n",
    "stargazer(c(compare_gg3_x),\n",
    "          keep=\"year\",\n",
    "          keep.stat = c(\"adj.rsq\",\"n\"),\n",
    "          covariate.labels=c(\"Year Trend\"),\n",
    "          dep.var.labels=c(\"Unadj.\",\"Unadj., Controls\",\"Adj. Williams\"))\n",
    "          "
   ]
  },
  {
   "cell_type": "markdown",
   "id": "ec085aca",
   "metadata": {},
   "source": [
    "bu/acre"
   ]
  },
  {
   "cell_type": "code",
   "execution_count": 14,
   "id": "861bb7a2",
   "metadata": {
    "scrolled": true
   },
   "outputs": [
    {
     "name": "stdout",
     "output_type": "stream",
     "text": [
      "\n",
      "% Table created by stargazer v.5.2.3 by Marek Hlavac, Social Policy Institute. E-mail: marek.hlavac at gmail.com\n",
      "% Date and time: Tue, Dec 10, 2024 - 3:27:55 PM\n",
      "\\begin{table}[!htbp] \\centering \n",
      "  \\caption{} \n",
      "  \\label{} \n",
      "\\begin{tabular}{@{\\extracolsep{5pt}}lccccccc} \n",
      "\\\\[-1.8ex]\\hline \n",
      "\\hline \\\\[-1.8ex] \n",
      " & \\multicolumn{7}{c}{\\textit{Dependent variable:}} \\\\ \n",
      "\\cline{2-8} \n",
      "\\\\[-1.8ex] & Unadj. & Unadj., w/ Controls & Adj. Jack & Adj. Dwight & Unadj. & Unadj., w/ Controls & Adj. Williams \\\\ \n",
      "\\\\[-1.8ex] & \\textit{OLS} & \\textit{felm} & \\textit{felm} & \\textit{felm} & \\textit{OLS} & \\textit{felm} & \\textit{felm} \\\\ \n",
      "\\\\[-1.8ex] & (1) & (2) & (3) & (4) & (5) & (6) & (7)\\\\ \n",
      "\\hline \\\\[-1.8ex] \n",
      " Year Trend & 0.711$^{***}$ & 0.442$^{***}$ & 0.375$^{***}$ & 0.393$^{***}$ & 0.809$^{***}$ & 0.534$^{***}$ & 0.382$^{***}$ \\\\ \n",
      "  & (0.010) & (0.118) & (0.053) & (0.046) & (0.010) & (0.068) & (0.061) \\\\ \n",
      "  & & & & & & & \\\\ \n",
      "\\hline \\\\[-1.8ex] \n",
      "Observations & 23,207 & 23,207 & 23,207 & 23,207 & 27,233 & 27,233 & 27,233 \\\\ \n",
      "Adjusted R$^{2}$ & 0.168 & 0.534 & 0.449 & 0.455 & 0.196 & 0.622 & 0.375 \\\\ \n",
      "\\hline \n",
      "\\hline \\\\[-1.8ex] \n",
      "\\textit{Note:}  & \\multicolumn{7}{r}{$^{*}$p$<$0.1; $^{**}$p$<$0.05; $^{***}$p$<$0.01} \\\\ \n",
      "\\end{tabular} \n",
      "\\end{table} \n"
     ]
    }
   ],
   "source": [
    "stargazer(c(compare_gg2_bu_x,compare_gg3_bu_x),\n",
    "          keep=\"year\",\n",
    "          covariate.labels=c(\"Year Trend\"),\n",
    "          dep.var.labels=c(\"Unadj.\",\"Unadj., w/ Controls\", \"Adj. Jack\", \"Adj. Dwight\",\"Unadj.\",\"Unadj., w/ Controls\",\"Adj. Williams\"),\n",
    "          keep.stat = c(\"adj.rsq\",\"n\"))\n",
    "          #type=\"text\")"
   ]
  },
  {
   "cell_type": "code",
   "execution_count": 15,
   "id": "d6a9ca6d",
   "metadata": {},
   "outputs": [
    {
     "name": "stdout",
     "output_type": "stream",
     "text": [
      "\n",
      "% Table created by stargazer v.5.2.3 by Marek Hlavac, Social Policy Institute. E-mail: marek.hlavac at gmail.com\n",
      "% Date and time: Tue, Dec 10, 2024 - 3:27:56 PM\n",
      "\\begin{table}[!htbp] \\centering \n",
      "  \\caption{} \n",
      "  \\label{} \n",
      "\\begin{tabular}{@{\\extracolsep{5pt}}lccc} \n",
      "\\\\[-1.8ex]\\hline \n",
      "\\hline \\\\[-1.8ex] \n",
      " & \\multicolumn{3}{c}{\\textit{Dependent variable:}} \\\\ \n",
      "\\cline{2-4} \n",
      "\\\\[-1.8ex] & Adj. Jack & Adj. Dwight & Adj. Williams \\\\ \n",
      "\\\\[-1.8ex] & (1) & (2) & (3)\\\\ \n",
      "\\hline \\\\[-1.8ex] \n",
      " Year Trend & 13.207$^{***}$ & 13.546$^{***}$ & 15.941$^{***}$ \\\\ \n",
      "  & (3.231) & (3.805) & (3.551) \\\\ \n",
      "  & & & \\\\ \n",
      " Year Trend X GE & 23.104$^{***}$ & 19.172$^{***}$ & 13.337$^{***}$ \\\\ \n",
      "  & (4.497) & (3.785) & (3.798) \\\\ \n",
      "  & & & \\\\ \n",
      "\\hline \\\\[-1.8ex] \n",
      "Observations & 23,207 & 23,207 & 27,233 \\\\ \n",
      "Adjusted R$^{2}$ & 0.467 & 0.458 & 0.385 \\\\ \n",
      "\\hline \n",
      "\\hline \\\\[-1.8ex] \n",
      "\\textit{Note:}  & \\multicolumn{3}{r}{$^{*}$p$<$0.1; $^{**}$p$<$0.05; $^{***}$p$<$0.01} \\\\ \n",
      "\\end{tabular} \n",
      "\\end{table} \n"
     ]
    }
   ],
   "source": [
    "stargazer(diff_gg_ge_kg,\n",
    "          keep=\"year\",\n",
    "          keep.stat = c(\"adj.rsq\",\"n\"),\n",
    "          covariate.labels=c(\"Year Trend\",\"Year Trend X GE\"),\n",
    "          dep.var.labels=c(\"Adj. Jack\",\"Adj. Dwight\",\"Adj. Williams\"))#,\n",
    "          #type=\"text\")"
   ]
  },
  {
   "cell_type": "markdown",
   "id": "4aa512f5",
   "metadata": {},
   "source": [
    "#### Different levels of covariates (Table A1)"
   ]
  },
  {
   "cell_type": "code",
   "execution_count": 17,
   "id": "d078e8e0",
   "metadata": {},
   "outputs": [],
   "source": [
    "compare_gg2_compare_x_j = list(felm(data=df2_complete,formula = fe_formula(\"diff_kg_j\",\"first_year\",X=\"1\",G=\"0\")),\n",
    "                          felm(data=df2_complete,formula = fe_formula(\"diff_kg_j\",\"first_year\",X=covars_j,G=c(\"maturity_week\",\"maturity_week_j\",\"planting_week\"))), \n",
    "                          felm(data=df2_complete,formula = fe_formula(\"diff_kg_j\",\"first_year\",X=c(covars_j,temp,rain),G=c(\"maturity_week\",\"maturity_week_j\",\"planting_week\"))),\n",
    "                          felm(data=df2_complete,formula = fe_formula(\"diff_kg_j\",\"first_year\",X=c(covars_j,temp,rain),G=factors_j)))\n",
    "\n",
    "compare_gg2_compare_x_d = list(felm(data=df2_complete,formula = fe_formula(\"diff_kg_d\",\"first_year\",X=\"1\",G=\"0\")),\n",
    "                          felm(data=df2_complete,formula = fe_formula(\"diff_kg_d\",\"first_year\",X=covars_d,G=c(\"maturity_week\",\"maturity_week_d\",\"planting_week\"))), \n",
    "                          felm(data=df2_complete,formula = fe_formula(\"diff_kg_d\",\"first_year\",X=c(covars_d,temp,rain),G=c(\"maturity_week\",\"maturity_week_d\",\"planting_week\"))), \n",
    "                          felm(data=df2_complete,formula = fe_formula(\"diff_kg_d\",\"first_year\",X=c(covars_d,temp,rain),G=factors_d)))\n",
    "\n",
    "compare_gg3_compare_x_w = list(felm(data=df3_complete,formula = fe_formula(\"diff_kg_w\",\"first_year\",X=\"1\",G=\"0\")),\n",
    "                          felm(data=df3_complete,formula = fe_formula(\"diff_kg_w\",\"first_year\",X=covars_w,G=c(\"maturity_week\",\"maturity_week_w\",\"planting_week\"))), \n",
    "                          felm(data=df3_complete,formula = fe_formula(\"diff_kg_w\",\"first_year\",X=c(covars_w,temp,rain),G=c(\"maturity_week\",\"maturity_week_w\",\"planting_week\"))), \n",
    "                          felm(data=df3_complete,formula = fe_formula(\"diff_kg_w\",\"first_year\",X=c(covars_w,temp,rain),G=factors_w)))"
   ]
  },
  {
   "cell_type": "code",
   "execution_count": 18,
   "id": "ea004d4f",
   "metadata": {},
   "outputs": [
    {
     "name": "stdout",
     "output_type": "stream",
     "text": [
      "\n",
      "% Table created by stargazer v.5.2.3 by Marek Hlavac, Social Policy Institute. E-mail: marek.hlavac at gmail.com\n",
      "% Date and time: Tue, Dec 10, 2024 - 3:29:10 PM\n",
      "\\begin{table}[!htbp] \\centering \n",
      "  \\caption{} \n",
      "  \\label{} \n",
      "\\begin{tabular}{@{\\extracolsep{5pt}}lcccc} \n",
      "\\\\[-1.8ex]\\hline \n",
      "\\hline \\\\[-1.8ex] \n",
      " & \\multicolumn{4}{c}{MG II, Adj. Jack} \\\\ \n",
      "\\cline{2-5} \n",
      "\\\\[-1.8ex] & \\multicolumn{4}{c}{} \\\\ \n",
      "\\\\[-1.8ex] & (1) & (2) & (3) & (4)\\\\ \n",
      "\\hline \\\\[-1.8ex] \n",
      " Year Trend & 40.686$^{***}$ & 40.874$^{***}$ & 27.129$^{***}$ & 25.226$^{***}$ \\\\ \n",
      "  & (3.519) & (3.935) & (3.524) & (3.534) \\\\ \n",
      "  & & & & \\\\ \n",
      "\\hline \\\\[-1.8ex] \n",
      "Variety Controls &  & X & X & X \\\\ \n",
      "Weather Controls &  &  & X & X \\\\ \n",
      "Location FE &  &  &  & X \\\\ \n",
      "Observations & 23,441 & 23,207 & 23,207 & 23,207 \\\\ \n",
      "Adjusted R$^{2}$ & 0.269 & 0.319 & 0.427 & 0.449 \\\\ \n",
      "\\hline \n",
      "\\hline \\\\[-1.8ex] \n",
      "\\textit{Note:}  & \\multicolumn{4}{r}{$^{*}$p$<$0.1; $^{**}$p$<$0.05; $^{***}$p$<$0.01} \\\\ \n",
      "\\end{tabular} \n",
      "\\end{table} \n"
     ]
    }
   ],
   "source": [
    "stargazer(compare_gg2_compare_x_j,\n",
    "          keep=\"year\",\n",
    "          keep.stat = c(\"adj.rsq\",\"n\"),\n",
    "          covariate.labels=c(\"Year Trend\",\"Year Trend X GE\"),\n",
    "          dep.var.labels=c(\"\"),\n",
    "          dep.var.caption = \"MG II, Adj. Jack\",\n",
    "          add.lines=list(c(\"Variety Controls\",\"\",\"X\",\"X\",\"X\"),\n",
    "                         c(\"Weather Controls\",\"\",\"\",\"X\",\"X\"),\n",
    "                         c(\"Location FE\",\"\",\"\",\"\",\"X\")))"
   ]
  },
  {
   "cell_type": "code",
   "execution_count": 19,
   "id": "3a028823",
   "metadata": {},
   "outputs": [
    {
     "name": "stdout",
     "output_type": "stream",
     "text": [
      "\n",
      "% Table created by stargazer v.5.2.3 by Marek Hlavac, Social Policy Institute. E-mail: marek.hlavac at gmail.com\n",
      "% Date and time: Tue, Dec 10, 2024 - 3:29:10 PM\n",
      "\\begin{table}[!htbp] \\centering \n",
      "  \\caption{} \n",
      "  \\label{} \n",
      "\\begin{tabular}{@{\\extracolsep{5pt}}lcccc} \n",
      "\\\\[-1.8ex]\\hline \n",
      "\\hline \\\\[-1.8ex] \n",
      " & \\multicolumn{4}{c}{MG II, Adj. Dwight} \\\\ \n",
      "\\cline{2-5} \n",
      "\\\\[-1.8ex] & \\multicolumn{4}{c}{} \\\\ \n",
      "\\\\[-1.8ex] & (1) & (2) & (3) & (4)\\\\ \n",
      "\\hline \\\\[-1.8ex] \n",
      " Year Trend & 45.034$^{***}$ & 34.741$^{***}$ & 28.010$^{***}$ & 26.413$^{***}$ \\\\ \n",
      "  & (5.018) & (5.294) & (3.001) & (3.069) \\\\ \n",
      "  & & & & \\\\ \n",
      "\\hline \\\\[-1.8ex] \n",
      "Variety Controls &  & X & X & X \\\\ \n",
      "Weather Controls &  &  & X & X \\\\ \n",
      "Location FE &  &  &  & X \\\\ \n",
      "Observations & 23,441 & 23,207 & 23,207 & 23,207 \\\\ \n",
      "Adjusted R$^{2}$ & 0.299 & 0.348 & 0.439 & 0.455 \\\\ \n",
      "\\hline \n",
      "\\hline \\\\[-1.8ex] \n",
      "\\textit{Note:}  & \\multicolumn{4}{r}{$^{*}$p$<$0.1; $^{**}$p$<$0.05; $^{***}$p$<$0.01} \\\\ \n",
      "\\end{tabular} \n",
      "\\end{table} \n"
     ]
    }
   ],
   "source": [
    "stargazer(compare_gg2_compare_x_d,\n",
    "          keep=\"year\",\n",
    "          keep.stat = c(\"adj.rsq\",\"n\"),\n",
    "          covariate.labels=c(\"Year Trend\",\"Year Trend X GE\"),\n",
    "          dep.var.labels=c(\"\"),\n",
    "          dep.var.caption = \"MG II, Adj. Dwight\",\n",
    "          add.lines=list(c(\"Variety Controls\",\"\",\"X\",\"X\",\"X\"),\n",
    "                         c(\"Weather Controls\",\"\",\"\",\"X\",\"X\"),\n",
    "                         c(\"Location FE\",\"\",\"\",\"\",\"X\")))"
   ]
  },
  {
   "cell_type": "code",
   "execution_count": 20,
   "id": "8be6fe8d",
   "metadata": {},
   "outputs": [
    {
     "name": "stdout",
     "output_type": "stream",
     "text": [
      "\n",
      "% Table created by stargazer v.5.2.3 by Marek Hlavac, Social Policy Institute. E-mail: marek.hlavac at gmail.com\n",
      "% Date and time: Tue, Dec 10, 2024 - 3:29:11 PM\n",
      "\\begin{table}[!htbp] \\centering \n",
      "  \\caption{} \n",
      "  \\label{} \n",
      "\\begin{tabular}{@{\\extracolsep{5pt}}lcccc} \n",
      "\\\\[-1.8ex]\\hline \n",
      "\\hline \\\\[-1.8ex] \n",
      " & \\multicolumn{4}{c}{MG III, Adj. Williams 82} \\\\ \n",
      "\\cline{2-5} \n",
      "\\\\[-1.8ex] & \\multicolumn{4}{c}{} \\\\ \n",
      "\\\\[-1.8ex] & (1) & (2) & (3) & (4)\\\\ \n",
      "\\hline \\\\[-1.8ex] \n",
      " Year Trend & 31.983$^{***}$ & 22.142$^{***}$ & 26.124$^{***}$ & 25.664$^{***}$ \\\\ \n",
      "  & (6.490) & (4.777) & (6.161) & (4.073) \\\\ \n",
      "  & & & & \\\\ \n",
      "\\hline \\\\[-1.8ex] \n",
      "Variety Controls &  & X & X & X \\\\ \n",
      "Weather Controls &  &  & X & X \\\\ \n",
      "Location FE &  &  &  & X \\\\ \n",
      "Observations & 27,565 & 27,233 & 27,233 & 27,233 \\\\ \n",
      "Adjusted R$^{2}$ & 0.156 & 0.228 & 0.285 & 0.375 \\\\ \n",
      "\\hline \n",
      "\\hline \\\\[-1.8ex] \n",
      "\\textit{Note:}  & \\multicolumn{4}{r}{$^{*}$p$<$0.1; $^{**}$p$<$0.05; $^{***}$p$<$0.01} \\\\ \n",
      "\\end{tabular} \n",
      "\\end{table} \n"
     ]
    }
   ],
   "source": [
    "stargazer(compare_gg3_compare_x_w,\n",
    "          keep=\"year\",\n",
    "          keep.stat = c(\"adj.rsq\",\"n\"),\n",
    "          covariate.labels=c(\"Year Trend\",\"Year Trend X GE\"),\n",
    "          dep.var.labels=c(\"\"),\n",
    "          dep.var.caption = \"MG III, Adj. Williams 82\",\n",
    "          add.lines=list(c(\"Variety Controls\",\"\",\"X\",\"X\",\"X\"),\n",
    "                         c(\"Weather Controls\",\"\",\"\",\"X\",\"X\"),\n",
    "                         c(\"Location FE\",\"\",\"\",\"\",\"X\")))"
   ]
  },
  {
   "cell_type": "markdown",
   "id": "70a35ba5",
   "metadata": {},
   "source": [
    "### Year FE"
   ]
  },
  {
   "cell_type": "code",
   "execution_count": 21,
   "id": "ec1a2855",
   "metadata": {},
   "outputs": [
    {
     "name": "stderr",
     "output_type": "stream",
     "text": [
      "Warning message in chol.default(mat, pivot = TRUE, tol = tol):\n",
      "\"the matrix is either rank-deficient or not positive definite\"\n",
      "Warning message in chol.default(mat, pivot = TRUE, tol = tol):\n",
      "\"the matrix is either rank-deficient or not positive definite\"\n",
      "Warning message in chol.default(mat, pivot = TRUE, tol = tol):\n",
      "\"the matrix is either rank-deficient or not positive definite\"\n",
      "Warning message in chol.default(mat, pivot = TRUE, tol = tol):\n",
      "\"the matrix is either rank-deficient or not positive definite\"\n",
      "Warning message in chol.default(mat, pivot = TRUE, tol = tol):\n",
      "\"the matrix is either rank-deficient or not positive definite\"\n",
      "Warning message in chol.default(mat, pivot = TRUE, tol = tol):\n",
      "\"the matrix is either rank-deficient or not positive definite\"\n",
      "Warning message in chol.default(mat, pivot = TRUE, tol = tol):\n",
      "\"the matrix is either rank-deficient or not positive definite\"\n",
      "Warning message in chol.default(mat, pivot = TRUE, tol = tol):\n",
      "\"the matrix is either rank-deficient or not positive definite\"\n",
      "Warning message in chol.default(mat, pivot = TRUE, tol = tol):\n",
      "\"the matrix is either rank-deficient or not positive definite\"\n",
      "Warning message in chol.default(mat, pivot = TRUE, tol = tol):\n",
      "\"the matrix is either rank-deficient or not positive definite\"\n",
      "Warning message in chol.default(mat, pivot = TRUE, tol = tol):\n",
      "\"the matrix is either rank-deficient or not positive definite\"\n",
      "Warning message in chol.default(mat, pivot = TRUE, tol = tol):\n",
      "\"the matrix is either rank-deficient or not positive definite\"\n"
     ]
    }
   ],
   "source": [
    "out2u<-lm(data=df2_complete,formula = \"yield_kg ~ relevel(as.factor(first_year),'1997')\")\n",
    "out2u_g<-lm(data=df2_complete,formula = \"yield_kg~relevel(as.factor(first_year),'1997')*GE\")\n",
    "\n",
    "out2<-felm(data=df2_complete,formula = fe_formula(\"yield_kg\",\"relevel(as.factor(first_year),'1997')\",X=c(var_covars,temp,rain),G=factors))\n",
    "out2_g<-felm(data=df2_complete,formula = fe_formula(\"yield_kg\",\"relevel(as.factor(first_year),'1997')*GE\",X=c(var_covars,temp,rain),G=factors))\n",
    "\n",
    "outj<-felm(data=df2_complete,formula = fe_formula(\"diff_kg_j\",\"relevel(as.factor(first_year),'1997')\",X=c(covars_j,temp,rain),G=factors_j))\n",
    "outj_g <- felm(data=df2_complete,formula = fe_formula(\"diff_kg_j\",\"relevel(as.factor(first_year),'1997')*GE\",X=c(covars_d,temp,rain),G=factors_d))\n",
    "\n",
    "outd<-felm(data=df2_complete,formula = fe_formula(\"diff_kg_d\",\"relevel(as.factor(first_year),'1997')\",X=c(covars_d,temp,rain),G=factors_d))\n",
    "outd_g<-felm(data=df2_complete,formula = fe_formula(\"diff_kg_d\",\"relevel(as.factor(first_year),'1997')*GE\",X=c(covars_d,temp,rain),G=factors_d))\n",
    "\n",
    "out3u<-lm(data=df3_complete,formula = \"yield_kg ~ relevel(as.factor(first_year),'1997')\")\n",
    "out3u_g<-lm(data=df3_complete,formula = \"yield_kg~relevel(as.factor(first_year),'1997')*GE\")\n",
    "\n",
    "out3<-felm(data=df3_complete,formula = fe_formula(\"yield_kg\",\"relevel(as.factor(first_year),'1997')\",X=c(var_covars,temp,rain),G=factors))\n",
    "out3_g<-felm(data=df3_complete,formula = fe_formula(\"yield_kg\",\"relevel(as.factor(first_year),'1997')*GE\",X=c(var_covars,temp,rain),G=factors))\n",
    "\n",
    "outw<-felm(data=df3_complete,formula = fe_formula(\"diff_kg_w\",\"relevel(as.factor(first_year),'1997')\",X=c(covars_w,temp,rain),G=factors_w))\n",
    "outw_g<-felm(data=df3_complete,formula = fe_formula(\"diff_kg_w\",\"relevel(as.factor(first_year),'1997')*GE\",X=c(covars_w,temp,rain),G=factors_w))\n",
    "\n",
    "write.csv(summary(out2u)$coefficients,\"../results/year_coefs2u.csv\")\n",
    "write.csv(summary(out2u_g)$coefficients,\"../results/year_coefs2u_GE.csv\")\n",
    "\n",
    "write.csv(summary(out2)$coefficients,\"../results/year_coefs2.csv\")\n",
    "write.csv(summary(out2_g)$coefficients,\"../results/year_coefs2_GE.csv\")\n",
    "\n",
    "write.csv(summary(outj)$coefficients,\"../results/year_coefs_j.csv\")\n",
    "write.csv(summary(outj_g)$coefficients,\"../results/year_coefs_j_GE.csv\")\n",
    "\n",
    "write.csv(summary(outd)$coefficients,\"../results/year_coefs_d.csv\")\n",
    "write.csv(summary(outd_g)$coefficients,\"../results/year_coefs_d_GE.csv\")\n",
    "\n",
    "write.csv(summary(out3u)$coefficients,\"../results/year_coefs3u.csv\")\n",
    "write.csv(summary(out3u_g)$coefficients,\"../results/year_coefs3u_GE.csv\")\n",
    "\n",
    "write.csv(summary(out3)$coefficients,\"../results/year_coefs3.csv\")\n",
    "write.csv(summary(out3_g)$coefficients,\"../results/year_coefs3_GE.csv\")\n",
    "\n",
    "write.csv(summary(outw)$coefficients,\"../results/year_coefs_w.csv\")\n",
    "write.csv(summary(outw_g)$coefficients,\"../results/year_coefs_w_GE.csv\")"
   ]
  },
  {
   "cell_type": "markdown",
   "id": "a1ebe230",
   "metadata": {},
   "source": [
    "### Variety FE"
   ]
  },
  {
   "cell_type": "code",
   "execution_count": 22,
   "id": "de0ab5e5",
   "metadata": {},
   "outputs": [],
   "source": [
    "df2 <- read.csv(\"../data/output_data/MG2_Complete_FE.csv\")\n",
    "df3 <- read.csv(\"../data/output_data/MG3_Complete_FE.csv\")\n",
    "\n",
    "var_covars = c(\"height\",\"lodging_comb\",\"scn_resist\",\"seed_treated\")\n",
    "covars = c(var_covars,temp,rain)\n",
    "factors = c(\"location\",\"maturity_week\",\"planting_week\")"
   ]
  },
  {
   "cell_type": "markdown",
   "id": "99aeb2fa",
   "metadata": {},
   "source": [
    "#### No weather controls"
   ]
  },
  {
   "cell_type": "code",
   "execution_count": 23,
   "id": "27a2fcb5",
   "metadata": {},
   "outputs": [
    {
     "name": "stderr",
     "output_type": "stream",
     "text": [
      "Warning message in chol.default(mat, pivot = TRUE, tol = tol):\n",
      "\"the matrix is either rank-deficient or not positive definite\"\n",
      "Warning message in chol.default(mat, pivot = TRUE, tol = tol):\n",
      "\"the matrix is either rank-deficient or not positive definite\"\n",
      "Warning message in chol.default(mat, pivot = TRUE, tol = tol):\n",
      "\"the matrix is either rank-deficient or not positive definite\"\n",
      "Warning message in chol.default(mat, pivot = TRUE, tol = tol):\n",
      "\"the matrix is either rank-deficient or not positive definite\"\n",
      "Warning message in chol.default(mat, pivot = TRUE, tol = tol):\n",
      "\"the matrix is either rank-deficient or not positive definite\"\n",
      "Warning message in chol.default(mat, pivot = TRUE, tol = tol):\n",
      "\"the matrix is either rank-deficient or not positive definite\"\n"
     ]
    }
   ],
   "source": [
    "varfe_d <- felm(data=df2,\n",
    "                formula = fe_formula(\"yield_kg\",\"relevel(factor(variety_id),'public_variety-DWIGHT')\",\n",
    "                                     X=var_covars,\n",
    "                                     G=factors))\n",
    "varfe_j <- felm(data=df2,\n",
    "                formula = fe_formula(\"yield_kg\",\"relevel(factor(variety_id),'public_variety-JACK')\",\n",
    "                                     X=var_covars,\n",
    "                                     G=factors))\n",
    "varfe_w <- felm(data=df3,\n",
    "                formula = fe_formula(\"yield_kg\",\"relevel(factor(variety_id),'public_variety-WILLIAMS_82')\",\n",
    "                                     X=var_covars,\n",
    "                                     G=factors))\n",
    "\n",
    "coefs_d <- summary(varfe_d)$coefficients\n",
    "coefs_j <- summary(varfe_j)$coefficients\n",
    "coefs_w <- summary(varfe_w)$coefficients\n",
    "\n",
    "write.csv(as.data.frame(coefs_d),\"../results/dwight_fe_now.csv\")\n",
    "write.csv(as.data.frame(coefs_j),\"../results/jack_fe_now.csv\")\n",
    "write.csv(as.data.frame(coefs_w),\"../results/williams_fe_now.csv\")"
   ]
  },
  {
   "cell_type": "markdown",
   "id": "30d23371",
   "metadata": {},
   "source": [
    "#### Weather controls"
   ]
  },
  {
   "cell_type": "code",
   "execution_count": 24,
   "id": "f809e6e8",
   "metadata": {},
   "outputs": [
    {
     "name": "stderr",
     "output_type": "stream",
     "text": [
      "Warning message in chol.default(mat, pivot = TRUE, tol = tol):\n",
      "\"the matrix is either rank-deficient or not positive definite\"\n",
      "Warning message in chol.default(mat, pivot = TRUE, tol = tol):\n",
      "\"the matrix is either rank-deficient or not positive definite\"\n",
      "Warning message in chol.default(mat, pivot = TRUE, tol = tol):\n",
      "\"the matrix is either rank-deficient or not positive definite\"\n"
     ]
    }
   ],
   "source": [
    "varfe_d <- felm(data=df2,\n",
    "                formula = fe_formula(\"yield_kg\",\"relevel(factor(variety_id),'public_variety-DWIGHT')\",\n",
    "                                     X=c(var_covars,rain,temp),\n",
    "                                     G=factors))\n",
    "varfe_j <- felm(data=df2,\n",
    "                formula = fe_formula(\"yield_kg\",\"relevel(factor(variety_id),'public_variety-JACK')\",\n",
    "                                     X=c(var_covars,rain,temp),\n",
    "                                     G=factors))\n",
    "varfe_w <- felm(data=df3,\n",
    "                formula = fe_formula(\"yield_kg\",\"relevel(factor(variety_id),'public_variety-WILLIAMS_82')\",\n",
    "                                     X=c(var_covars,rain,temp),\n",
    "                                     G=factors))"
   ]
  },
  {
   "cell_type": "code",
   "execution_count": 25,
   "id": "98ec2e6d",
   "metadata": {},
   "outputs": [
    {
     "name": "stderr",
     "output_type": "stream",
     "text": [
      "Warning message in chol.default(mat, pivot = TRUE, tol = tol):\n",
      "\"the matrix is either rank-deficient or not positive definite\"\n",
      "Warning message in chol.default(mat, pivot = TRUE, tol = tol):\n",
      "\"the matrix is either rank-deficient or not positive definite\"\n",
      "Warning message in chol.default(mat, pivot = TRUE, tol = tol):\n",
      "\"the matrix is either rank-deficient or not positive definite\"\n"
     ]
    }
   ],
   "source": [
    "coefs_d <- summary(varfe_d)$coefficients\n",
    "coefs_j <- summary(varfe_j)$coefficients\n",
    "coefs_w <- summary(varfe_w)$coefficients"
   ]
  },
  {
   "cell_type": "code",
   "execution_count": 26,
   "id": "93160b9d",
   "metadata": {},
   "outputs": [],
   "source": [
    "write.csv(as.data.frame(coefs_d),\"../results/dwight_fe.csv\")\n",
    "write.csv(as.data.frame(coefs_j),\"../results/jack_fe.csv\")\n",
    "write.csv(as.data.frame(coefs_w),\"../results/williams_fe.csv\")"
   ]
  },
  {
   "cell_type": "code",
   "execution_count": 27,
   "id": "bc1ba568",
   "metadata": {},
   "outputs": [],
   "source": [
    "coefs_d <- data.frame(coefs_d)[1:2815,]\n",
    "coefs_j <- data.frame(coefs_j)[1:2815,]\n",
    "coefs_w <- data.frame(coefs_w)[1:3258,]\n",
    "\n",
    "coefs_j[,\"variety_id\"] <- str_extract(rownames(coefs_j),\"(?<=JACK\\\"\\\\))\\\\w.*\")\n",
    "coefs_d[,\"variety_id\"] <- str_extract(rownames(coefs_d),\"(?<=DWIGHT\\\"\\\\))\\\\w.*\")\n",
    "coefs_w[,\"variety_id\"] <- str_extract(rownames(coefs_w),\"(?<=WILLIAMS_82\\\"\\\\))\\\\w.*\")\n",
    "\n",
    "var_years <- read.csv(\"../data/output_data/Var_Years.csv\")\n",
    "\n",
    "coefs_j <- merge(x=coefs_j,y=var_years,all.x=T,by=\"variety_id\")\n",
    "coefs_d <- merge(x=coefs_d,y=var_years,all.x=T,by=\"variety_id\")\n",
    "coefs_w <- merge(x=coefs_w,y=var_years,all.x=T,by=\"variety_id\")\n",
    "\n",
    "years_tested <- read.csv(\"../data/output_data/Years_Tested.csv\")\n",
    "names(years_tested) <- c(\"variety_id\",\"years_tested\")\n",
    "\n",
    "coefs_j <- merge(x=coefs_j,y=years_tested,all.x=T,by=\"variety_id\")\n",
    "coefs_d <- merge(x=coefs_d,y=years_tested,all.x=T,by=\"variety_id\")\n",
    "coefs_w <- merge(x=coefs_w,y=years_tested,all.x=T,by=\"variety_id\")\n",
    "\n",
    "\n",
    "coefs_d <- coefs_d[!is.nan(coefs_d$Estimate),]\n",
    "coefs_j <- coefs_j[!is.nan(coefs_j$Estimate),]\n",
    "coefs_w <- coefs_w[!is.nan(coefs_w$Estimate),]\n",
    "\n",
    "coefs_j$est <- ifelse(coefs_j[,\"Pr...t..\"]<=.1,coefs_j$Estimate,0)\n",
    "coefs_d$est <- ifelse(coefs_d[,\"Pr...t..\"]<=.1,coefs_d$Estimate,0)\n",
    "coefs_w$est <- ifelse(coefs_w[,\"Pr...t..\"]<=.1,coefs_w$Estimate,0)\n",
    "\n",
    "coefs_j$GE <- coefs_j$GE ==\"True\"\n",
    "coefs_d$GE <- coefs_d$GE ==\"True\"\n",
    "coefs_w$GE <- coefs_w$GE ==\"True\""
   ]
  },
  {
   "cell_type": "code",
   "execution_count": 28,
   "id": "674127ae",
   "metadata": {},
   "outputs": [],
   "source": [
    "fe_j <- lm(\"est ~ first_year\",coefs_j)\n",
    "fe_j_fe = lm(\"est ~ relevel(as.factor(first_year),'1997') \",coefs_j)\n",
    "fe_j_e <- lm(\"Estimate ~ first_year\",coefs_j)\n",
    "fe_j_GE <- lm(\"est ~ first_year*GE\",coefs_j)\n",
    "fe_j_m <- lm(\"est ~ first_year\",coefs_j[coefs_j$years_tested>1,])\n",
    "\n",
    "fe_d <- lm(\"est ~ first_year\",coefs_d)\n",
    "fe_d_fe = lm(\"est ~ relevel(as.factor(first_year),'1997')\",coefs_d)\n",
    "fe_d_e <- lm(\"Estimate ~ first_year\",coefs_d)\n",
    "fe_d_GE <- lm(\"est ~ first_year*GE\",coefs_d)\n",
    "fe_d_m <- lm(\"est ~ first_year\",coefs_d[coefs_d$years_tested>1,])\n",
    "\n",
    "fe_w <- lm(\"est ~ first_year\",coefs_w)\n",
    "fe_w_fe = lm(\"est ~ relevel(as.factor(first_year),'1997')\",coefs_w)\n",
    "fe_w_e <- lm(\"Estimate ~ first_year\",coefs_w)\n",
    "fe_w_GE <- lm(\"est ~ first_year*GE\",coefs_w)\n",
    "fe_w_m <- lm(\"est ~ first_year\",coefs_w[coefs_w$years_tested>1,])"
   ]
  },
  {
   "cell_type": "code",
   "execution_count": 29,
   "id": "a10f2ea4",
   "metadata": {},
   "outputs": [],
   "source": [
    "write.csv(summary(fe_j_fe)$coefficients,\"../results/vfe_year_j.csv\")\n",
    "write.csv(summary(fe_d_fe)$coefficients,\"../results/vfe_year_d.csv\")\n",
    "write.csv(summary(fe_w_fe)$coefficients,\"../results/vfe_year_w.csv\")"
   ]
  },
  {
   "cell_type": "code",
   "execution_count": 30,
   "id": "cad19585",
   "metadata": {},
   "outputs": [],
   "source": [
    "# With covars, kg/ha\n",
    "compare_gg2_j_methods = list(felm(data=df2_complete,formula = fe_formula(\"yield_kg\",\"first_year\",X=c(var_covars,rain,temp))),\n",
    "                             felm(data=df2_complete,formula = fe_formula(\"diff_kg_j\",\"first_year\",X=c(covars_j,rain,temp),G=factors_j)),\n",
    "                             fe_j)\n",
    "\n",
    "compare_gg2_d_methods = list(felm(data=df2_complete,formula = fe_formula(\"diff_kg_d\",\"first_year\",X=c(covars_d,rain,temp),G=factors_d)),\n",
    "                             fe_d)\n",
    "\n",
    "compare_gg3_methods = list(felm(data=df3_complete,formula = fe_formula(\"yield_kg\",\"first_year\",X=c(var_covars,rain,temp))),\n",
    "                           felm(data=df3_complete,formula = fe_formula(\"diff_kg_w\",\"first_year\",X=c(covars_w,rain,temp),G=factors_w)),\n",
    "                           fe_w)\n"
   ]
  },
  {
   "cell_type": "code",
   "execution_count": 31,
   "id": "161b01ae",
   "metadata": {},
   "outputs": [
    {
     "name": "stdout",
     "output_type": "stream",
     "text": [
      "\n",
      "% Table created by stargazer v.5.2.3 by Marek Hlavac, Social Policy Institute. E-mail: marek.hlavac at gmail.com\n",
      "% Date and time: Tue, Dec 10, 2024 - 4:59:06 PM\n",
      "\\begin{table}[!htbp] \\centering \n",
      "  \\caption{} \n",
      "  \\label{} \n",
      "\\begin{tabular}{@{\\extracolsep{5pt}}lccc} \n",
      "\\\\[-1.8ex]\\hline \n",
      "\\hline \\\\[-1.8ex] \n",
      " & \\multicolumn{3}{c}{\\textit{Dependent variable:}} \\\\ \n",
      "\\cline{2-4} \n",
      "\\\\[-1.8ex] & Unadj. & Adj., Jack & Variety FE, Jack \\\\ \n",
      "\\\\[-1.8ex] & \\textit{felm} & \\textit{felm} & \\textit{OLS} \\\\ \n",
      "\\\\[-1.8ex] & (1) & (2) & (3)\\\\ \n",
      "\\hline \\\\[-1.8ex] \n",
      " Year Trend & 29.735$^{***}$ & 25.226$^{***}$ & 29.404$^{***}$ \\\\ \n",
      "  & (7.936) & (3.534) & (1.090) \\\\ \n",
      "  & & & \\\\ \n",
      "\\hline \\\\[-1.8ex] \n",
      "Observations & 23,207 & 23,207 & 2,914 \\\\ \n",
      "Adjusted R$^{2}$ & 0.534 & 0.449 & 0.200 \\\\ \n",
      "\\hline \n",
      "\\hline \\\\[-1.8ex] \n",
      "\\textit{Note:}  & \\multicolumn{3}{r}{$^{*}$p$<$0.1; $^{**}$p$<$0.05; $^{***}$p$<$0.01} \\\\ \n",
      "\\end{tabular} \n",
      "\\end{table} \n",
      "\n",
      "% Table created by stargazer v.5.2.3 by Marek Hlavac, Social Policy Institute. E-mail: marek.hlavac at gmail.com\n",
      "% Date and time: Tue, Dec 10, 2024 - 4:59:06 PM\n",
      "\\begin{table}[!htbp] \\centering \n",
      "  \\caption{} \n",
      "  \\label{} \n",
      "\\begin{tabular}{@{\\extracolsep{5pt}}lcc} \n",
      "\\\\[-1.8ex]\\hline \n",
      "\\hline \\\\[-1.8ex] \n",
      " & \\multicolumn{2}{c}{\\textit{Dependent variable:}} \\\\ \n",
      "\\cline{2-3} \n",
      "\\\\[-1.8ex] & Adj., Dwight & Variety FE, Dwight \\\\ \n",
      "\\\\[-1.8ex] & \\textit{felm} & \\textit{OLS} \\\\ \n",
      "\\\\[-1.8ex] & (1) & (2)\\\\ \n",
      "\\hline \\\\[-1.8ex] \n",
      " Year Trend & 26.413$^{***}$ & 21.120$^{***}$ \\\\ \n",
      "  & (3.069) & (0.883) \\\\ \n",
      "  & & \\\\ \n",
      "\\hline \\\\[-1.8ex] \n",
      "Observations & 23,207 & 2,915 \\\\ \n",
      "Adjusted R$^{2}$ & 0.455 & 0.164 \\\\ \n",
      "\\hline \n",
      "\\hline \\\\[-1.8ex] \n",
      "\\textit{Note:}  & \\multicolumn{2}{r}{$^{*}$p$<$0.1; $^{**}$p$<$0.05; $^{***}$p$<$0.01} \\\\ \n",
      "\\end{tabular} \n",
      "\\end{table} \n",
      "\n",
      "% Table created by stargazer v.5.2.3 by Marek Hlavac, Social Policy Institute. E-mail: marek.hlavac at gmail.com\n",
      "% Date and time: Tue, Dec 10, 2024 - 4:59:06 PM\n",
      "\\begin{table}[!htbp] \\centering \n",
      "  \\caption{} \n",
      "  \\label{} \n",
      "\\begin{tabular}{@{\\extracolsep{5pt}}lccc} \n",
      "\\\\[-1.8ex]\\hline \n",
      "\\hline \\\\[-1.8ex] \n",
      " & \\multicolumn{3}{c}{\\textit{Dependent variable:}} \\\\ \n",
      "\\cline{2-4} \n",
      "\\\\[-1.8ex] & Unadj. & Adj., Williams 82 & Variety FE, Williams 82 \\\\ \n",
      "\\\\[-1.8ex] & \\textit{felm} & \\textit{felm} & \\textit{OLS} \\\\ \n",
      "\\\\[-1.8ex] & (1) & (2) & (3)\\\\ \n",
      "\\hline \\\\[-1.8ex] \n",
      " Year Trend & 35.926$^{***}$ & 25.664$^{***}$ & 32.027$^{***}$ \\\\ \n",
      "  & (4.586) & (4.073) & (0.899) \\\\ \n",
      "  & & & \\\\ \n",
      "\\hline \\\\[-1.8ex] \n",
      "Observations & 27,233 & 27,233 & 3,379 \\\\ \n",
      "Adjusted R$^{2}$ & 0.622 & 0.375 & 0.273 \\\\ \n",
      "\\hline \n",
      "\\hline \\\\[-1.8ex] \n",
      "\\textit{Note:}  & \\multicolumn{3}{r}{$^{*}$p$<$0.1; $^{**}$p$<$0.05; $^{***}$p$<$0.01} \\\\ \n",
      "\\end{tabular} \n",
      "\\end{table} \n"
     ]
    }
   ],
   "source": [
    "stargazer(c(compare_gg2_j_methods),\n",
    "          keep=\"year\",\n",
    "          covariate.labels=c(\"Year Trend\"),\n",
    "          dep.var.labels=c(\"Unadj.\", \"Adj., Jack\",\"Variety FE, Jack\"),\n",
    "          keep.stat = c(\"adj.rsq\",\"n\"))\n",
    "\n",
    "stargazer(c(compare_gg2_d_methods),\n",
    "          keep=\"year\",\n",
    "          covariate.labels=c(\"Year Trend\"),\n",
    "          dep.var.labels=c( \"Adj., Dwight\",\"Variety FE, Dwight\"),\n",
    "          keep.stat = c(\"adj.rsq\",\"n\"))\n",
    "\n",
    "stargazer(c(compare_gg3_methods),\n",
    "          keep=\"year\",\n",
    "          covariate.labels=c(\"Year Trend\"),\n",
    "          dep.var.labels=c(\"Unadj.\", \"Adj., Williams 82\",\"Variety FE, Williams 82\"),\n",
    "          keep.stat = c(\"adj.rsq\",\"n\"))"
   ]
  },
  {
   "cell_type": "code",
   "execution_count": 32,
   "id": "1e1b28f6",
   "metadata": {},
   "outputs": [
    {
     "name": "stdout",
     "output_type": "stream",
     "text": [
      "\n",
      "% Table created by stargazer v.5.2.3 by Marek Hlavac, Social Policy Institute. E-mail: marek.hlavac at gmail.com\n",
      "% Date and time: Tue, Dec 10, 2024 - 4:59:07 PM\n",
      "\\begin{table}[!htbp] \\centering \n",
      "  \\caption{} \n",
      "  \\label{} \n",
      "\\begin{tabular}{@{\\extracolsep{5pt}}lcccccc} \n",
      "\\\\[-1.8ex]\\hline \n",
      "\\hline \\\\[-1.8ex] \n",
      " & \\multicolumn{6}{c}{\\textit{Dependent variable:}} \\\\ \n",
      "\\cline{2-7} \n",
      "\\\\[-1.8ex] & \\multicolumn{6}{c}{NA} \\\\ \n",
      "\\\\[-1.8ex] & (1) & (2) & (3) & (4) & (5) & (6)\\\\ \n",
      "\\hline \\\\[-1.8ex] \n",
      " Year Trend & 29.404$^{***}$ & 11.013$^{***}$ & 21.120$^{***}$ & 9.056$^{***}$ & 32.027$^{***}$ & 22.176$^{***}$ \\\\ \n",
      "  & (1.090) & (2.137) & (0.883) & (1.762) & (0.899) & (1.581) \\\\ \n",
      "  & & & & & & \\\\ \n",
      " Year Trend X GE &  & 32.612$^{***}$ &  & 21.247$^{***}$ &  & 12.334$^{***}$ \\\\ \n",
      "  &  & (2.521) &  & (2.079) &  & (1.974) \\\\ \n",
      "  & & & & & & \\\\ \n",
      "\\hline \\\\[-1.8ex] \n",
      "Observations & 2,914 & 2,914 & 2,915 & 2,915 & 3,379 & 3,379 \\\\ \n",
      "Adjusted R$^{2}$ & 0.200 & 0.272 & 0.164 & 0.211 & 0.273 & 0.288 \\\\ \n",
      "\\hline \n",
      "\\hline \\\\[-1.8ex] \n",
      "\\textit{Note:}  & \\multicolumn{6}{r}{$^{*}$p$<$0.1; $^{**}$p$<$0.05; $^{***}$p$<$0.01} \\\\ \n",
      "\\end{tabular} \n",
      "\\end{table} \n"
     ]
    }
   ],
   "source": [
    "stargazer(fe_j,fe_j_GE,fe_d,fe_d_GE,fe_w,fe_w_GE,\n",
    "          keep=\"year\",\n",
    "          covariate.labels=c(\"Year Trend\",\"Year Trend X GE\"),\n",
    "          keep.stat = c(\"adj.rsq\",\"n\"))"
   ]
  },
  {
   "cell_type": "code",
   "execution_count": 33,
   "id": "6b3ca2f9",
   "metadata": {},
   "outputs": [
    {
     "name": "stdout",
     "output_type": "stream",
     "text": [
      "\n",
      "% Table created by stargazer v.5.2.3 by Marek Hlavac, Social Policy Institute. E-mail: marek.hlavac at gmail.com\n",
      "% Date and time: Tue, Dec 10, 2024 - 4:59:09 PM\n",
      "\\begin{table}[!htbp] \\centering \n",
      "  \\caption{} \n",
      "  \\label{} \n",
      "\\begin{tabular}{@{\\extracolsep{5pt}}lccc} \n",
      "\\\\[-1.8ex]\\hline \n",
      "\\hline \\\\[-1.8ex] \n",
      " & \\multicolumn{3}{c}{\\textit{Dependent variable:}} \\\\ \n",
      "\\cline{2-4} \n",
      "\\\\[-1.8ex] & \\multicolumn{3}{c}{NA} \\\\ \n",
      "\\\\[-1.8ex] & (1) & (2) & (3)\\\\ \n",
      "\\hline \\\\[-1.8ex] \n",
      " Year Trend & 29.404$^{***}$ & 29.141$^{***}$ & 25.520$^{***}$ \\\\ \n",
      "  & (1.090) & (0.962) & (1.465) \\\\ \n",
      "  & & & \\\\ \n",
      "\\hline \\\\[-1.8ex] \n",
      "Observations & 2,914 & 2,914 & 1,127 \\\\ \n",
      "Adjusted R$^{2}$ & 0.200 & 0.239 & 0.212 \\\\ \n",
      "\\hline \n",
      "\\hline \\\\[-1.8ex] \n",
      "\\textit{Note:}  & \\multicolumn{3}{r}{$^{*}$p$<$0.1; $^{**}$p$<$0.05; $^{***}$p$<$0.01} \\\\ \n",
      "\\end{tabular} \n",
      "\\end{table} \n"
     ]
    }
   ],
   "source": [
    "stargazer(fe_j,fe_j_e,fe_j_m,\n",
    "          keep=\"year\",\n",
    "          covariate.labels=c(\"Year Trend\"),\n",
    "          keep.stat = c(\"adj.rsq\",\"n\"))"
   ]
  },
  {
   "cell_type": "code",
   "execution_count": 34,
   "id": "f2e94000",
   "metadata": {
    "scrolled": true
   },
   "outputs": [
    {
     "name": "stdout",
     "output_type": "stream",
     "text": [
      "\n",
      "% Table created by stargazer v.5.2.3 by Marek Hlavac, Social Policy Institute. E-mail: marek.hlavac at gmail.com\n",
      "% Date and time: Tue, Dec 10, 2024 - 4:59:11 PM\n",
      "\\begin{table}[!htbp] \\centering \n",
      "  \\caption{} \n",
      "  \\label{} \n",
      "\\begin{tabular}{@{\\extracolsep{5pt}}lccc} \n",
      "\\\\[-1.8ex]\\hline \n",
      "\\hline \\\\[-1.8ex] \n",
      " & \\multicolumn{3}{c}{\\textit{Dependent variable:}} \\\\ \n",
      "\\cline{2-4} \n",
      "\\\\[-1.8ex] & \\multicolumn{3}{c}{NA} \\\\ \n",
      "\\\\[-1.8ex] & (1) & (2) & (3)\\\\ \n",
      "\\hline \\\\[-1.8ex] \n",
      " Year Trend & 21.120$^{***}$ & 29.201$^{***}$ & 19.197$^{***}$ \\\\ \n",
      "  & (0.883) & (0.962) & (1.188) \\\\ \n",
      "  & & & \\\\ \n",
      "\\hline \\\\[-1.8ex] \n",
      "Observations & 2,915 & 2,915 & 1,128 \\\\ \n",
      "Adjusted R$^{2}$ & 0.164 & 0.240 & 0.188 \\\\ \n",
      "\\hline \n",
      "\\hline \\\\[-1.8ex] \n",
      "\\textit{Note:}  & \\multicolumn{3}{r}{$^{*}$p$<$0.1; $^{**}$p$<$0.05; $^{***}$p$<$0.01} \\\\ \n",
      "\\end{tabular} \n",
      "\\end{table} \n"
     ]
    }
   ],
   "source": [
    "stargazer(fe_d,fe_d_e,fe_d_m,\n",
    "          keep=\"year\",\n",
    "          covariate.labels=c(\"Year Trend\"),\n",
    "          keep.stat = c(\"adj.rsq\",\"n\"))\n"
   ]
  },
  {
   "cell_type": "code",
   "execution_count": 35,
   "id": "d690b3cb",
   "metadata": {},
   "outputs": [
    {
     "name": "stdout",
     "output_type": "stream",
     "text": [
      "\n",
      "% Table created by stargazer v.5.2.3 by Marek Hlavac, Social Policy Institute. E-mail: marek.hlavac at gmail.com\n",
      "% Date and time: Tue, Dec 10, 2024 - 4:59:11 PM\n",
      "\\begin{table}[!htbp] \\centering \n",
      "  \\caption{} \n",
      "  \\label{} \n",
      "\\begin{tabular}{@{\\extracolsep{5pt}}lccc} \n",
      "\\\\[-1.8ex]\\hline \n",
      "\\hline \\\\[-1.8ex] \n",
      " & \\multicolumn{3}{c}{\\textit{Dependent variable:}} \\\\ \n",
      "\\cline{2-4} \n",
      "\\\\[-1.8ex] & \\multicolumn{3}{c}{NA} \\\\ \n",
      "\\\\[-1.8ex] & (1) & (2) & (3)\\\\ \n",
      "\\hline \\\\[-1.8ex] \n",
      " Year Trend & 32.027$^{***}$ & 30.889$^{***}$ & 33.513$^{***}$ \\\\ \n",
      "  & (0.899) & (0.818) & (1.081) \\\\ \n",
      "  & & & \\\\ \n",
      "\\hline \\\\[-1.8ex] \n",
      "Observations & 3,379 & 3,379 & 1,375 \\\\ \n",
      "Adjusted R$^{2}$ & 0.273 & 0.297 & 0.411 \\\\ \n",
      "\\hline \n",
      "\\hline \\\\[-1.8ex] \n",
      "\\textit{Note:}  & \\multicolumn{3}{r}{$^{*}$p$<$0.1; $^{**}$p$<$0.05; $^{***}$p$<$0.01} \\\\ \n",
      "\\end{tabular} \n",
      "\\end{table} \n"
     ]
    }
   ],
   "source": [
    "stargazer(fe_w,fe_w_e,fe_w_m,\n",
    "          keep=\"year\",\n",
    "          covariate.labels=c(\"Year Trend\"),\n",
    "          keep.stat = c(\"adj.rsq\",\"n\"))"
   ]
  },
  {
   "cell_type": "markdown",
   "id": "7773b81a",
   "metadata": {},
   "source": [
    "### Control Variables (Tables A2-4)"
   ]
  },
  {
   "cell_type": "code",
   "execution_count": 36,
   "id": "9c919b91",
   "metadata": {},
   "outputs": [],
   "source": [
    "# With covars, kg/ha\n",
    "compare_gg2_x = list(felm(data=df2_complete,formula = fe_formula(\"yield_kg\",\"first_year\",X=c(var_covars,rain,temp))),\n",
    "                felm(data=df2_complete,formula = fe_formula(\"diff_kg_j\",\"first_year\",X=c(covars_j,rain,temp),G=factors_j)),\n",
    "                felm(data=df2_complete,formula = fe_formula(\"diff_kg_d\",\"first_year\",X=c(covars_d,rain,temp),G=factors_d)))\n",
    "\n",
    "compare_gg3_x = list(felm(data=df3_complete,formula = fe_formula(\"yield_kg\",\"first_year\",X=c(var_covars,rain,temp))),\n",
    "                     felm(data=df3_complete,formula = fe_formula(\"diff_kg_w\",\"first_year\",X=c(covars_w,rain,temp),G=factors_w)))\n"
   ]
  },
  {
   "cell_type": "code",
   "execution_count": 37,
   "id": "4ddc798a",
   "metadata": {},
   "outputs": [
    {
     "name": "stdout",
     "output_type": "stream",
     "text": [
      "\n",
      "% Table created by stargazer v.5.2.3 by Marek Hlavac, Social Policy Institute. E-mail: marek.hlavac at gmail.com\n",
      "% Date and time: Tue, Dec 10, 2024 - 4:59:18 PM\n",
      "\\begin{table}[!htbp] \\centering \n",
      "  \\caption{} \n",
      "  \\label{} \n",
      "\\begin{tabular}{@{\\extracolsep{5pt}}lccccc} \n",
      "\\\\[-1.8ex]\\hline \n",
      "\\hline \\\\[-1.8ex] \n",
      " & \\multicolumn{5}{c}{\\textit{Dependent variable:}} \\\\ \n",
      "\\cline{2-6} \n",
      "\\\\[-1.8ex] & Unadj. & Variety FE, Jack & Adj., Jack & Variety FE, Dwight & Adj., Dwight \\\\ \n",
      "\\\\[-1.8ex] & (1) & (2) & (3) & (4) & (5)\\\\ \n",
      "\\hline \\\\[-1.8ex] \n",
      " Year Trend & 29.735$^{***}$ & 25.225$^{***}$ & 26.413$^{***}$ & 35.926$^{***}$ & 25.664$^{***}$ \\\\ \n",
      "  & (7.936) & (3.534) & (3.069) & (4.585) & (4.073) \\\\ \n",
      "  & & & & & \\\\ \n",
      " Height & 19.233$^{**}$ & 4.778 & 4.810 & 17.050$^{**}$ & 7.795$^{*}$ \\\\ \n",
      "  & (6.205) & (3.827) & (4.491) & (7.475) & (4.084) \\\\ \n",
      "  & & & & & \\\\ \n",
      " Lodging Score & $-$37.287 & 15.061 & 29.399 & $-$64.508 & $-$106.411$^{***}$ \\\\ \n",
      "  & (58.010) & (33.331) & (37.353) & (39.019) & (25.540) \\\\ \n",
      "  & & & & & \\\\ \n",
      " Height (Check) &  & $-$16.307$^{**}$ &  &  &  \\\\ \n",
      "  &  & (6.145) &  &  &  \\\\ \n",
      "  & & & & & \\\\ \n",
      " Lodging Score (Check) &  & 127.896$^{**}$ &  &  &  \\\\ \n",
      "  &  & (43.039) &  &  &  \\\\ \n",
      "  & & & & & \\\\ \n",
      " Height (Check) &  &  & $-$4.751 &  &  \\\\ \n",
      "  &  &  & (19.092) &  &  \\\\ \n",
      "  & & & & & \\\\ \n",
      " Lodging Score (Check) &  &  & 53.505 &  &  \\\\ \n",
      "  &  &  & (75.971) &  &  \\\\ \n",
      "  & & & & & \\\\ \n",
      " Height (Check) &  &  &  &  & $-$17.011$^{**}$ \\\\ \n",
      "  &  &  &  &  & (7.215) \\\\ \n",
      "  & & & & & \\\\ \n",
      " Lodging Score (Check) &  &  &  &  & 145.537$^{**}$ \\\\ \n",
      "  &  &  &  &  & (59.696) \\\\ \n",
      "  & & & & & \\\\ \n",
      " SCN Resistance & $-$30.874 & 11.848 & $-$2.338 & 31.602 & 94.564$^{***}$ \\\\ \n",
      "  & (25.579) & (34.148) & (26.106) & (22.331) & (17.643) \\\\ \n",
      "  & & & & & \\\\ \n",
      " Seed Treatment & 38.068 & 36.278$^{**}$ & 54.110$^{***}$ & $-$16.574 & $-$2.605 \\\\ \n",
      "  & (20.841) & (11.778) & (12.877) & (20.968) & (12.655) \\\\ \n",
      "  & & & & & \\\\ \n",
      " Rainfall, May & 8.360 & 97.357 & $-$17.261 & 91.074$^{*}$ & $-$36.308 \\\\ \n",
      "  & (99.568) & (64.375) & (54.546) & (44.561) & (22.588) \\\\ \n",
      "  & & & & & \\\\ \n",
      " Rainfall, June & 90.318 & $-$17.346 & $-$43.868 & 100.285$^{**}$ & 60.528 \\\\ \n",
      "  & (77.070) & (38.366) & (47.683) & (41.252) & (54.779) \\\\ \n",
      "  & & & & & \\\\ \n",
      " Rainfall, July & 95.421 & $-$55.125$^{*}$ & 88.825$^{**}$ & 172.284$^{***}$ & 59.638$^{*}$ \\\\ \n",
      "  & (88.992) & (29.200) & (29.243) & (29.878) & (31.116) \\\\ \n",
      "  & & & & & \\\\ \n",
      " Rainfall, August & 70.370 & $-$8.192 & 12.474 & 90.285 & 50.441 \\\\ \n",
      "  & (39.133) & (29.817) & (45.401) & (56.196) & (37.800) \\\\ \n",
      "  & & & & & \\\\ \n",
      " Rainfall, September & 76.244$^{*}$ & 11.522 & 2.949 & 30.041 & $-$43.268 \\\\ \n",
      "  & (34.463) & (30.462) & (39.770) & (28.780) & (27.041) \\\\ \n",
      "  & & & & & \\\\ \n",
      " Rainfall Sqrd, May & $-$1.931 & $-$10.290 & $-$1.965 & $-$7.583$^{*}$ & 1.815 \\\\ \n",
      "  & (6.992) & (6.050) & (4.432) & (3.941) & (2.703) \\\\ \n",
      "  & & & & & \\\\ \n",
      " Rainfall Sqrd, June & $-$10.341$^{*}$ & 3.523 & 2.957 & $-$7.130 & $-$6.498 \\\\ \n",
      "  & (5.235) & (2.951) & (3.595) & (4.164) & (4.530) \\\\ \n",
      "  & & & & & \\\\ \n",
      " Rainfall Sqrd, July & $-$0.463 & 9.455$^{**}$ & $-$3.619 & $-$15.282$^{***}$ & $-$4.216 \\\\ \n",
      "  & (9.862) & (3.104) & (2.671) & (2.589) & (3.063) \\\\ \n",
      "  & & & & & \\\\ \n",
      " Rainfall Sqrd, August & $-$8.978$^{***}$ & 3.770 & 0.358 & $-$4.209 & $-$4.620 \\\\ \n",
      "  & (1.606) & (2.642) & (3.172) & (5.107) & (2.958) \\\\ \n",
      "  & & & & & \\\\ \n",
      " Rainfall Sqrd, September & $-$9.196$^{**}$ & 0.495 & $-$1.107 & $-$2.334 & 4.232$^{**}$ \\\\ \n",
      "  & (2.780) & (2.377) & (3.567) & (3.099) & (1.908) \\\\ \n",
      "  & & & & & \\\\ \n",
      " Temp Min, May & 694,459.800$^{**}$ & $-$31,603.170 & 144,004.300 & 10,519.800 & 26,252.460 \\\\ \n",
      "  & (290,784.700) & (252,918.600) & (147,052.800) & (442,212.200) & (278,124.000) \\\\ \n",
      "  & & & & & \\\\ \n",
      " Temp Min, June & $-$1,106,454.000$^{*}$ & $-$332,847.400 & $-$18,508.800 & 551,977.200 & 231,422.000 \\\\ \n",
      "  & (552,733.700) & (199,586.400) & (246,867.100) & (362,223.900) & (480,453.900) \\\\ \n",
      "  & & & & & \\\\ \n",
      " Temp Min, July & $-$100,800.000 & $-$410,907.700 & $-$370,803.200 & $-$260,895.900 & 100,775.700 \\\\ \n",
      "  & (376,424.900) & (300,772.900) & (246,503.700) & (374,601.700) & (381,053.800) \\\\ \n",
      "  & & & & & \\\\ \n",
      " Temp Min, August & 676,421.700 & 794,893.700$^{***}$ & 400,455.700$^{**}$ & 93,603.000 & $-$54,571.930 \\\\ \n",
      "  & (489,004.800) & (218,851.100) & (157,749.500) & (258,990.400) & (238,463.200) \\\\ \n",
      "  & & & & & \\\\ \n",
      " Temp Min, September & $-$363,970.700 & $-$305,221.100 & $-$486,807.900 & $-$52,069.170 & $-$386,390.600 \\\\ \n",
      "  & (431,132.100) & (168,528.900) & (283,779.000) & (418,223.400) & (243,057.700) \\\\ \n",
      "  & & & & & \\\\ \n",
      " Temp Max, May & 694,473.300$^{**}$ & $-$31,697.260 & 143,893.600 & 10,150.440 & 26,150.110 \\\\ \n",
      "  & (290,801.200) & (252,919.700) & (146,976.500) & (442,210.100) & (278,121.200) \\\\ \n",
      "  & & & & & \\\\ \n",
      " Temp Max, June & $-$1,107,012.000$^{*}$ & $-$333,077.400 & $-$18,823.250 & 551,825.000 & 231,321.800 \\\\ \n",
      "  & (552,783.000) & (199,554.600) & (246,834.400) & (362,203.400) & (480,479.300) \\\\ \n",
      "  & & & & & \\\\ \n",
      " Temp Max, July & $-$100,614.600 & $-$410,876.500 & $-$370,944.800 & $-$260,563.100 & 100,901.400 \\\\ \n",
      "  & (376,447.800) & (300,768.200) & (246,468.100) & (374,623.000) & (381,027.800) \\\\ \n",
      "  & & & & & \\\\ \n",
      " Temp Max, August & 676,417.700 & 795,094.300$^{***}$ & 400,770.600$^{**}$ & 93,506.650 & $-$54,671.020 \\\\ \n",
      "  & (489,170.500) & (218,871.700) & (157,727.500) & (259,002.900) & (238,435.200) \\\\ \n",
      "  & & & & & \\\\ \n",
      " Temp Max, September & $-$364,137.500 & $-$305,216.200 & $-$486,807.200 & $-$52,185.420 & $-$386,402.300 \\\\ \n",
      "  & (431,129.200) & (168,514.700) & (283,761.300) & (418,214.500) & (243,037.300) \\\\ \n",
      "  & & & & & \\\\ \n",
      " Temp Mean, May & $-$1,388,879.000$^{**}$ & 63,317.860 & $-$287,898.500 & $-$20,654.190 & $-$52,378.930 \\\\ \n",
      "  & (581,567.400) & (505,827.700) & (294,029.000) & (884,432.100) & (556,241.200) \\\\ \n",
      "  & & & & & \\\\ \n",
      " Temp Mean, June & 2,213,690.000$^{*}$ & 665,984.600 & 37,421.850 & $-$1,103,704.000 & $-$462,717.100 \\\\ \n",
      "  & (1,105,501.000) & (399,131.700) & (493,701.400) & (724,412.500) & (960,956.300) \\\\ \n",
      "  & & & & & \\\\ \n",
      " Temp Mean, July & 201,368.300 & 821,803.500 & 741,741.600 & 521,475.100 & $-$201,683.400 \\\\ \n",
      "  & (752,864.700) & (601,554.600) & (492,982.400) & (749,227.400) & (762,083.200) \\\\ \n",
      "  & & & & & \\\\ \n",
      " Temp Mean, August & $-$1,353,022.000 & $-$1,589,999.000$^{***}$ & $-$801,224.500$^{**}$ & $-$187,285.900 & 109,290.900 \\\\ \n",
      "  & (978,163.000) & (437,715.600) & (315,488.100) & (518,016.700) & (476,904.400) \\\\ \n",
      "  & & & & & \\\\ \n",
      " Temp Mean, September & 728,131.700 & 610,405.900 & 973,592.600 & 104,353.000 & 772,739.000 \\\\ \n",
      "  & (862,247.000) & (337,034.200) & (567,501.500) & (836,449.000) & (486,117.600) \\\\ \n",
      "  & & & & & \\\\ \n",
      "\\hline \\\\[-1.8ex] \n",
      "Observations & 23,207 & 23,207 & 23,207 & 27,233 & 27,233 \\\\ \n",
      "Adjusted R$^{2}$ & 0.534 & 0.449 & 0.455 & 0.622 & 0.375 \\\\ \n",
      "\\hline \n",
      "\\hline \\\\[-1.8ex] \n",
      "\\textit{Note:}  & \\multicolumn{5}{r}{$^{*}$p$<$0.1; $^{**}$p$<$0.05; $^{***}$p$<$0.01} \\\\ \n",
      "\\end{tabular} \n",
      "\\end{table} \n"
     ]
    }
   ],
   "source": [
    "stargazer(c(compare_gg2_x,compare_gg3_x),\n",
    "          covariate.labels=c(\"Year Trend\",\"Height\",\"Lodging Score\",\"Height (Check)\",\"Lodging Score (Check)\",\n",
    "                             \"Height (Check)\",\"Lodging Score (Check)\",\"Height (Check)\",\"Lodging Score (Check)\",\n",
    "                             \"SCN Resistance\",\"Seed Treatment\",\n",
    "                             \"Rainfall, May\",\"Rainfall, June\",\"Rainfall, July\",\"Rainfall, August\",\"Rainfall, September\",\n",
    "                             \"Rainfall Sqrd, May\",\"Rainfall Sqrd, June\",\"Rainfall Sqrd, July\",\"Rainfall Sqrd, August\",\"Rainfall Sqrd, September\",\n",
    "                             \"Temp Min, May\",\"Temp Min, June\",\"Temp Min, July\",\"Temp Min, August\",\"Temp Min, September\",\n",
    "                             \"Temp Max, May\",\"Temp Max, June\",\"Temp Max, July\",\"Temp Max, August\",\"Temp Max, September\",\n",
    "                             \"Temp Mean, May\",\"Temp Mean, June\",\"Temp Mean, July\",\"Temp Mean, August\",\"Temp Mean, September\"),\n",
    "          dep.var.labels=c(\"Unadj.\", \"Variety FE, Jack\", \"Adj., Jack\", \n",
    "                                     \"Variety FE, Dwight\", \"Adj., Dwight\"),\n",
    "          keep.stat = c(\"adj.rsq\",\"n\"))\n"
   ]
  },
  {
   "cell_type": "markdown",
   "id": "40a2b0ec",
   "metadata": {},
   "source": [
    "## Robustness Checks"
   ]
  },
  {
   "cell_type": "markdown",
   "id": "fa93d8b2",
   "metadata": {},
   "source": [
    "### With only Region 2 and 3"
   ]
  },
  {
   "cell_type": "code",
   "execution_count": 38,
   "id": "cb7e163e",
   "metadata": {},
   "outputs": [],
   "source": [
    "out <- felm(data=df2_reg23,formula = fe_formula(\"yield_kg\",\"first_year\",X=c(var_covars,rain,temp)))\n",
    "DF2 <- model.frame(out)\n",
    "out <- felm(data=df2_reg23,formula = fe_formula(\"yield\",\"first_year\",X=c(var_covars,rain,temp)))\n",
    "DF2b <- model.frame(out)\n",
    "out <- felm(data=df3_reg3,formula = fe_formula(\"yield_kg\",\"first_year\",X=c(var_covars,rain,temp)))\n",
    "DF3 <- model.frame(out)\n",
    "out <- felm(data=df3_reg3,formula = fe_formula(\"yield\",\"first_year\",X=c(var_covars,rain,temp)))\n",
    "DF3b <- model.frame(out)\n",
    "\n",
    "# With covars, kg/ha\n",
    "compare_gg2_x_23 = list(lm(data=DF2,formula = \"yield_kg ~first_year\"),\n",
    "                felm(data=df2_reg23,formula = fe_formula(\"yield_kg\",\"first_year\",X=c(var_covars,rain,temp))),\n",
    "                felm(data=df2_reg23,formula = fe_formula(\"diff_kg_j\",\"first_year\",X=c(covars_j,rain,temp),G=factors_j)),\n",
    "                felm(data=df2_reg23,formula = fe_formula(\"diff_kg_d\",\"first_year\",X=c(covars_d,rain,temp),G=factors_d)))\n",
    "\n",
    "compare_gg3_x_23 = list(lm(data=DF3 ,formula = \"yield_kg ~ first_year\"),\n",
    "                     felm(data=df3_reg3,formula = fe_formula(\"yield_kg\",\"first_year\",X=c(var_covars,rain,temp))),\n",
    "                     felm(data=df3_reg3,formula = fe_formula(\"diff_kg_w\",\"first_year\",X=c(covars_w,rain,temp),G=factors_w)))\n",
    "\n",
    "# With covars, bu/acr\n",
    "compare_gg2_bu_x_23 = list(lm(data=DF2b,formula = \"yield ~ first_year\"),\n",
    "                felm(data=df2_reg23,formula = fe_formula(\"yield\",\"first_year\",X=c(var_covars,rain,temp))),\n",
    "                felm(data=df2_reg23,formula = fe_formula(\"diff_j\",\"first_year\",X=c(covars_j,rain,temp),G=factors_j)),\n",
    "                felm(data=df2_reg23,formula = fe_formula(\"diff_d\",\"first_year\",X=c(covars_d,rain,temp),G=factors_d)))\n",
    "\n",
    "compare_gg3_bu_x_23 = list(lm(data=DF3b ,formula = \"yield ~ first_year\"),\n",
    "                     felm(data=df3_reg3,formula = fe_formula(\"yield\",\"first_year\",X=c(var_covars,rain,temp))),\n",
    "                     felm(data=df3_reg3,formula = fe_formula(\"diff_w\",\"first_year\",X=c(covars_w,rain,temp),G=factors_w)))\n",
    "\n",
    "# With covars and GE interaction\n",
    "diff_gg_ge_kg_23 =  list(felm(data=df2_reg23,formula = fe_formula(\"diff_kg_d\",\"first_year + GE + GE:first_year \",X=c(covars_d,rain,temp),G=factors_d)),\n",
    "                      felm(data=df2_reg23,formula = fe_formula(\"diff_kg_j\",\"first_year  + GE + GE:first_year \",X=c(covars_j,rain,temp),G=factors_j)),\n",
    "                      felm(data=df3_reg3,formula = fe_formula(\"diff_kg_w\",\"first_year  + GE + GE:first_year \",X=c(covars_w,rain,temp),G=factors_w)))\n",
    "\n",
    "diff_gg_ge_23 = list(felm(data=df2_reg23,formula = fe_formula(\"diff_d\",\"first_year  + GE + GE:first_year \",X=c(covars_d,rain,temp),G=factors_d)),\n",
    "                      felm(data=df2_reg23,formula = fe_formula(\"diff_j\",\"first_year  + GE + GE:first_year \",X=c(covars_j,rain,temp),G=factors_j)),\n",
    "                      felm(data=df3_reg3,formula = fe_formula(\"diff_w\",\"first_year  + GE + GE:first_year \",X=c(covars_w,rain,temp),G=factors_w)))"
   ]
  },
  {
   "cell_type": "code",
   "execution_count": 39,
   "id": "c1455b2b",
   "metadata": {},
   "outputs": [
    {
     "name": "stdout",
     "output_type": "stream",
     "text": [
      "\n",
      "% Table created by stargazer v.5.2.3 by Marek Hlavac, Social Policy Institute. E-mail: marek.hlavac at gmail.com\n",
      "% Date and time: Tue, Dec 10, 2024 - 4:59:23 PM\n",
      "\\begin{table}[!htbp] \\centering \n",
      "  \\caption{} \n",
      "  \\label{} \n",
      "\\begin{tabular}{@{\\extracolsep{5pt}}lccccccc} \n",
      "\\\\[-1.8ex]\\hline \n",
      "\\hline \\\\[-1.8ex] \n",
      " & \\multicolumn{7}{c}{\\textit{Dependent variable:}} \\\\ \n",
      "\\cline{2-8} \n",
      "\\\\[-1.8ex] & Unadjusted & Adj. Jack & Adj. Dwight & Unadjusted & Adj. Williams & NA & NA \\\\ \n",
      "\\\\[-1.8ex] & \\textit{OLS} & \\textit{felm} & \\textit{felm} & \\textit{felm} & \\textit{OLS} & \\textit{felm} & \\textit{felm} \\\\ \n",
      "\\\\[-1.8ex] & (1) & (2) & (3) & (4) & (5) & (6) & (7)\\\\ \n",
      "\\hline \\\\[-1.8ex] \n",
      " Year Trend & 56.628$^{***}$ & 34.827$^{***}$ & 24.528$^{***}$ & 32.414$^{***}$ & 59.614$^{***}$ & 31.376$^{***}$ & 30.365$^{**}$ \\\\ \n",
      "  & (0.805) & (7.618) & (4.879) & (6.764) & (0.876) & (3.047) & (6.507) \\\\ \n",
      "  & & & & & & & \\\\ \n",
      "\\hline \\\\[-1.8ex] \n",
      "Observations & 12,305 & 12,305 & 12,305 & 12,305 & 13,799 & 13,799 & 13,799 \\\\ \n",
      "Adjusted R$^{2}$ & 0.287 & 0.625 & 0.545 & 0.597 & 0.251 & 0.679 & 0.512 \\\\ \n",
      "\\hline \n",
      "\\hline \\\\[-1.8ex] \n",
      "\\textit{Note:}  & \\multicolumn{7}{r}{$^{*}$p$<$0.1; $^{**}$p$<$0.05; $^{***}$p$<$0.01} \\\\ \n",
      "\\end{tabular} \n",
      "\\end{table} \n"
     ]
    }
   ],
   "source": [
    "stargazer(c(compare_gg2_x_23,compare_gg3_x_23),\n",
    "          keep=\"year\",\n",
    "          keep.stat = c(\"adj.rsq\",\"n\"),\n",
    "          covariate.labels=c(\"Year Trend\"),\n",
    "          dep.var.labels=c(\"Unadjusted\", \"Adj. Jack\", \"Adj. Dwight\",\"Unadjusted\",\"Adj. Williams\"))\n",
    "          "
   ]
  },
  {
   "cell_type": "code",
   "execution_count": 40,
   "id": "66511737",
   "metadata": {},
   "outputs": [],
   "source": [
    "compare_mg2_23 = list(felm(data=df2_complete,formula = fe_formula(\"diff_kg_j\",\"first_year\",X=c(covars_j,rain,temp),G=factors_j)),\n",
    "                        felm(data=df2_reg23,formula = fe_formula(\"diff_kg_j\",\"first_year\",X=c(covars_j,rain,temp),G=factors_j)),\n",
    "                        felm(data=df2_complete,formula = fe_formula(\"diff_kg_d\",\"first_year\",X=c(covars_d,rain,temp),G=factors_d)),\n",
    "                        felm(data=df2_reg23,formula = fe_formula(\"diff_kg_d\",\"first_year\",X=c(covars_d,rain,temp),G=factors_d)))\n",
    "\n",
    "compare_mg3_23 = list(felm(data=df3_complete,formula = fe_formula(\"diff_kg_w\",\"first_year\",X=c(covars_w,rain,temp),G=factors_w)),\n",
    "                        felm(data=df3_reg3,formula = fe_formula(\"diff_kg_w\",\"first_year\",X=c(covars_w,rain,temp),G=factors_w)))"
   ]
  },
  {
   "cell_type": "code",
   "execution_count": 41,
   "id": "be494555",
   "metadata": {},
   "outputs": [
    {
     "name": "stdout",
     "output_type": "stream",
     "text": [
      "\n",
      "% Table created by stargazer v.5.2.3 by Marek Hlavac, Social Policy Institute. E-mail: marek.hlavac at gmail.com\n",
      "% Date and time: Tue, Dec 10, 2024 - 4:59:26 PM\n",
      "\\begin{table}[!htbp] \\centering \n",
      "  \\caption{} \n",
      "  \\label{} \n",
      "\\begin{tabular}{@{\\extracolsep{5pt}}lcccccc} \n",
      "\\\\[-1.8ex]\\hline \n",
      "\\hline \\\\[-1.8ex] \n",
      " & \\multicolumn{6}{c}{\\textit{Dependent variable:}} \\\\ \n",
      "\\cline{2-7} \n",
      "\\\\[-1.8ex] & \\multicolumn{2}{c}{Jack, Full Sample} & \\multicolumn{2}{c}{Jack, Region 2 and 3} & \\multicolumn{2}{c}{Dwight, Full Sample} \\\\ \n",
      "\\\\[-1.8ex] & (1) & (2) & (3) & (4) & (5) & (6)\\\\ \n",
      "\\hline \\\\[-1.8ex] \n",
      " Year Trend & 25.226$^{***}$ & 24.528$^{***}$ & 26.413$^{***}$ & 32.414$^{***}$ & 25.664$^{***}$ & 30.364$^{**}$ \\\\ \n",
      "  & (3.534) & (4.879) & (3.069) & (6.764) & (4.073) & (6.507) \\\\ \n",
      "  & & & & & & \\\\ \n",
      "\\hline \\\\[-1.8ex] \n",
      "Observations & 23,207 & 12,305 & 23,207 & 12,305 & 27,233 & 13,799 \\\\ \n",
      "Adjusted R$^{2}$ & 0.449 & 0.545 & 0.455 & 0.597 & 0.375 & 0.512 \\\\ \n",
      "\\hline \n",
      "\\hline \\\\[-1.8ex] \n",
      "\\textit{Note:}  & \\multicolumn{6}{r}{$^{*}$p$<$0.1; $^{**}$p$<$0.05; $^{***}$p$<$0.01} \\\\ \n",
      "\\end{tabular} \n",
      "\\end{table} \n"
     ]
    }
   ],
   "source": [
    "stargazer(c(compare_mg2_23,compare_mg3_23),\n",
    "          keep=\"year\",\n",
    "          keep.stat = c(\"adj.rsq\",\"n\"),\n",
    "          covariate.labels=c(\"Year Trend\"),\n",
    "          dep.var.labels=c(\"Jack, Full Sample\", \"Jack, Region 2 and 3\", \"Dwight, Full Sample\",\"Dwight, Region 2 and 3\",\"Full Sample\",\"Region 2 and 3\"))\n",
    "          "
   ]
  },
  {
   "cell_type": "markdown",
   "id": "f02ace11",
   "metadata": {},
   "source": [
    "### Company Panel"
   ]
  },
  {
   "cell_type": "markdown",
   "id": "daefad9b",
   "metadata": {},
   "source": [
    "Normal impacts"
   ]
  },
  {
   "cell_type": "code",
   "execution_count": 42,
   "id": "80b11a3e",
   "metadata": {},
   "outputs": [],
   "source": [
    "# Normal trend\n",
    "compare_gg2_x_p = list(felm(data=df2_complete,formula = fe_formula(\"diff_kg_j\",\"first_year\",X=c(covars_j,temp,rain),G=factors_j)),\n",
    "                       felm(data=df2_complete[df2_complete$company_panel_00==\"True\",],formula = fe_formula(\"diff_kg_j\",\"first_year\",X=c(covars_j,temp,rain),G=factors_j)),\n",
    "                       felm(data=df2_complete,formula = fe_formula(\"diff_kg_d\",\"first_year\",X=c(covars_d,temp,rain),G=factors_d)),\n",
    "                       felm(data=df2_complete[df2_complete$company_panel_00==\"True\",],formula = fe_formula(\"diff_kg_d\",\"first_year\",X=c(covars_d,temp,rain),G=factors_d)))\n",
    "\n",
    "compare_gg3_x_p = list(felm(data=df3_complete,formula = fe_formula(\"diff_kg_w\",\"first_year\",X=c(covars_w,temp,rain),G=factors_w)),\n",
    "                       felm(data=df3_complete[df3_complete$company_panel_00==\"True\",],formula = fe_formula(\"diff_kg_w\",\"first_year\",X=c(covars_w,temp,rain),G=factors_w)))\n",
    "\n",
    "# GE trend\n",
    "compare_gg2_x_p_ge = list(felm(data=df2_complete,formula = fe_formula(\"diff_kg_j\",\"year + GE + GE:year\",X=c(covars_j,temp,rain),G=factors_j)),\n",
    "                       felm(data=df2_complete[df2_complete$company_panel_00==\"True\",],formula = fe_formula(\"diff_kg_j\",\"year + GE + GE:year\",X=c(covars_j,temp,rain),G=factors_j)),\n",
    "                       felm(data=df2_complete,formula = fe_formula(\"diff_kg_d\",\"year + GE + GE:year\",X=c(covars_d,temp,rain),G=factors_d)),\n",
    "                       felm(data=df2_complete[df2_complete$company_panel_00==\"True\",],formula = fe_formula(\"diff_kg_d\",\"year + GE + GE:year\",X=c(covars_d,temp,rain),G=factors_d)))\n",
    "\n",
    "compare_gg3_x_p_ge = list(felm(data=df3_reg23,formula = fe_formula(\"diff_kg_w\",\"year + GE + GE:year\",X=c(covars_w,temp,rain),G=factors_w)),\n",
    "                       felm(data=df3_complete[df3_complete$company_panel_00==\"True\",],formula = fe_formula(\"diff_kg_w\",\"year + GE + GE:year\",X=c(covars_w,temp,rain),G=factors_w)))"
   ]
  },
  {
   "cell_type": "code",
   "execution_count": 43,
   "id": "2ce2ef42",
   "metadata": {},
   "outputs": [
    {
     "name": "stdout",
     "output_type": "stream",
     "text": [
      "\n",
      "% Table created by stargazer v.5.2.3 by Marek Hlavac, Social Policy Institute. E-mail: marek.hlavac at gmail.com\n",
      "% Date and time: Tue, Dec 10, 2024 - 4:59:33 PM\n",
      "\\begin{table}[!htbp] \\centering \n",
      "  \\caption{} \n",
      "  \\label{} \n",
      "\\begin{tabular}{@{\\extracolsep{5pt}}lcccccc} \n",
      "\\\\[-1.8ex]\\hline \n",
      "\\hline \\\\[-1.8ex] \n",
      " & \\multicolumn{6}{c}{\\textit{Dependent variable:}} \\\\ \n",
      "\\cline{2-7} \n",
      "\\\\[-1.8ex] & \\multicolumn{2}{c}{All Companies} & \\multicolumn{2}{c}{Company Panel} & \\multicolumn{2}{c}{All Companies} \\\\ \n",
      "\\\\[-1.8ex] & (1) & (2) & (3) & (4) & (5) & (6)\\\\ \n",
      "\\hline \\\\[-1.8ex] \n",
      " Year Trend & 25.226$^{***}$ & 23.829$^{***}$ & 26.413$^{***}$ & 28.508$^{***}$ & 25.664$^{***}$ & 23.162$^{***}$ \\\\ \n",
      "  & (3.534) & (4.574) & (3.069) & (5.119) & (4.073) & (4.059) \\\\ \n",
      "  & & & & & & \\\\ \n",
      "\\hline \\\\[-1.8ex] \n",
      "Observations & 23,207 & 3,629 & 23,207 & 3,629 & 27,233 & 3,870 \\\\ \n",
      "Adjusted R$^{2}$ & 0.449 & 0.503 & 0.455 & 0.500 & 0.375 & 0.413 \\\\ \n",
      "\\hline \n",
      "\\hline \\\\[-1.8ex] \n",
      "\\textit{Note:}  & \\multicolumn{6}{r}{$^{*}$p$<$0.1; $^{**}$p$<$0.05; $^{***}$p$<$0.01} \\\\ \n",
      "\\end{tabular} \n",
      "\\end{table} \n"
     ]
    }
   ],
   "source": [
    "stargazer(c(compare_gg2_x_p,compare_gg3_x_p),\n",
    "          keep=\"year\",\n",
    "          covariate.labels=c(\"Year Trend\"),\n",
    "          dep.var.labels=c(\"All Companies\", \"Company Panel\", \"All Companies\", \"Company Panel\",\"All Companies\", \"Company Panel\"),\n",
    "          keep.stat = c(\"adj.rsq\",\"n\"))"
   ]
  },
  {
   "cell_type": "markdown",
   "id": "9b6c859b",
   "metadata": {},
   "source": [
    "GE impacts"
   ]
  },
  {
   "cell_type": "code",
   "execution_count": 44,
   "id": "518a9a84",
   "metadata": {},
   "outputs": [
    {
     "name": "stdout",
     "output_type": "stream",
     "text": [
      "\n",
      "% Table created by stargazer v.5.2.3 by Marek Hlavac, Social Policy Institute. E-mail: marek.hlavac at gmail.com\n",
      "% Date and time: Tue, Dec 10, 2024 - 4:59:34 PM\n",
      "\\begin{table}[!htbp] \\centering \n",
      "  \\caption{} \n",
      "  \\label{} \n",
      "\\begin{tabular}{@{\\extracolsep{5pt}}lcccccc} \n",
      "\\\\[-1.8ex]\\hline \n",
      "\\hline \\\\[-1.8ex] \n",
      " & \\multicolumn{6}{c}{\\textit{Dependent variable:}} \\\\ \n",
      "\\cline{2-7} \n",
      "\\\\[-1.8ex] & \\multicolumn{2}{c}{All Companies} & \\multicolumn{2}{c}{Company Panel} & \\multicolumn{2}{c}{All Companies} \\\\ \n",
      "\\\\[-1.8ex] & (1) & (2) & (3) & (4) & (5) & (6)\\\\ \n",
      "\\hline \\\\[-1.8ex] \n",
      " Year Trend & 21.146$^{***}$ & 24.201$^{***}$ & 19.607$^{***}$ & 26.274$^{***}$ & 23.353$^{**}$ & 23.164$^{***}$ \\\\ \n",
      "  & (4.103) & (4.831) & (3.609) & (4.663) & (6.697) & (5.297) \\\\ \n",
      "  & & & & & & \\\\ \n",
      " Year Trend X GE & 17.764$^{***}$ & 5.114 & 22.343$^{***}$ & 8.936 & 17.163$^{***}$ & 6.207 \\\\ \n",
      "  & (4.021) & (6.491) & (4.942) & (7.765) & (4.152) & (5.678) \\\\ \n",
      "  & & & & & & \\\\ \n",
      "\\hline \\\\[-1.8ex] \n",
      "Observations & 23,207 & 3,629 & 23,207 & 3,629 & 20,420 & 3,870 \\\\ \n",
      "Adjusted R$^{2}$ & 0.463 & 0.507 & 0.471 & 0.505 & 0.426 & 0.420 \\\\ \n",
      "\\hline \n",
      "\\hline \\\\[-1.8ex] \n",
      "\\textit{Note:}  & \\multicolumn{6}{r}{$^{*}$p$<$0.1; $^{**}$p$<$0.05; $^{***}$p$<$0.01} \\\\ \n",
      "\\end{tabular} \n",
      "\\end{table} \n"
     ]
    }
   ],
   "source": [
    "stargazer(c(compare_gg2_x_p_ge,compare_gg3_x_p_ge),\n",
    "          keep=\"year\",\n",
    "          covariate.labels=c(\"Year Trend\",\"Year Trend X GE\"),\n",
    "          dep.var.labels=c(\"All Companies\", \"Company Panel\", \"All Companies\", \"Company Panel\",\"All Companies\", \"Company Panel\"),\n",
    "          keep.stat = c(\"adj.rsq\",\"n\"))"
   ]
  },
  {
   "cell_type": "markdown",
   "id": "c9a5bef3",
   "metadata": {},
   "source": [
    "### Year of trial instead of year of first trial"
   ]
  },
  {
   "cell_type": "code",
   "execution_count": 45,
   "id": "244bf454",
   "metadata": {},
   "outputs": [],
   "source": [
    "# With covars, kg/ha\n",
    "compare_gg2_x_y = list(felm(data=df2_complete,formula = fe_formula(\"diff_kg_j\",\"first_year\",X=c(covars_j,rain,temp),G=factors_j)),\n",
    "                       felm(data=df2_complete,formula = fe_formula(\"diff_kg_j\",\"year\",X=c(covars_j,rain,temp),G=factors_j)),\n",
    "                       felm(data=df2_complete,formula = fe_formula(\"diff_kg_d\",\"first_year\",X=c(covars_d,rain,temp),G=factors_d)),\n",
    "                       felm(data=df2_complete,formula = fe_formula(\"diff_kg_d\",\"year\",X=c(covars_d,rain,temp),G=factors_d)))\n",
    "\n",
    "compare_gg3_x_y = list(felm(data=df3_complete,formula = fe_formula(\"diff_kg_w\",\"first_year\",X=c(covars_w,rain,temp),G=factors_w)),\n",
    "                       felm(data=df3_complete,formula = fe_formula(\"diff_kg_w\",\"year\",X=c(covars_w,rain,temp),G=factors_w)))\n"
   ]
  },
  {
   "cell_type": "code",
   "execution_count": 46,
   "id": "2ad1f52f",
   "metadata": {},
   "outputs": [
    {
     "name": "stderr",
     "output_type": "stream",
     "text": [
      "Warning message in chol.default(mat, pivot = TRUE, tol = tol):\n",
      "\"the matrix is either rank-deficient or not positive definite\"\n",
      "Warning message in chol.default(mat, pivot = TRUE, tol = tol):\n",
      "\"the matrix is either rank-deficient or not positive definite\"\n",
      "Warning message in chol.default(mat, pivot = TRUE, tol = tol):\n",
      "\"the matrix is either rank-deficient or not positive definite\"\n",
      "Warning message in chol.default(mat, pivot = TRUE, tol = tol):\n",
      "\"the matrix is either rank-deficient or not positive definite\"\n",
      "Warning message in chol.default(mat, pivot = TRUE, tol = tol):\n",
      "\"the matrix is either rank-deficient or not positive definite\"\n",
      "Warning message in chol.default(mat, pivot = TRUE, tol = tol):\n",
      "\"the matrix is either rank-deficient or not positive definite\"\n",
      "Warning message in chol.default(mat, pivot = TRUE, tol = tol):\n",
      "\"the matrix is either rank-deficient or not positive definite\"\n"
     ]
    }
   ],
   "source": [
    "outj_y<-felm(data=df2_complete,formula = fe_formula(\"diff_kg_j\",\"relevel(as.factor(year),'1997')\",X=c(covars_j,temp,rain),G=factors_j))\n",
    "outj_g_y <- felm(data=df2_complete,formula = fe_formula(\"diff_kg_j\",\"relevel(as.factor(year),'1997')*GE\",X=c(covars_j,temp,rain),G=factors_j))\n",
    "\n",
    "outd_y<-felm(data=df2_complete,formula = fe_formula(\"diff_kg_d\",\"relevel(as.factor(year),'1997')\",X=c(covars_d,temp,rain),G=factors_d))\n",
    "outd_g_y<-felm(data=df2_complete,formula = fe_formula(\"diff_kg_d\",\"relevel(as.factor(year),'1997')*GE\",X=c(covars_d,temp,rain),G=factors_d))\n",
    "\n",
    "outw_y<-felm(data=df3_complete,formula = fe_formula(\"diff_kg_w\",\"relevel(as.factor(year),'1997')\",X=c(covars_w,temp,rain),G=factors_w))\n",
    "outw_g_y<-felm(data=df3_complete,formula = fe_formula(\"diff_kg_w\",\"relevel(as.factor(year),'1997')*GE\",X=c(covars_w,temp,rain),G=factors_w))\n",
    "\n",
    "write.csv(summary(outj_y)$coefficients,\"../results/yot_coefs_j.csv\")\n",
    "write.csv(summary(outj_g_y)$coefficients,\"../results/yot_coefs_j_GE.csv\")\n",
    "\n",
    "write.csv(summary(outd_y)$coefficients,\"../results/yot_coefs_d.csv\")\n",
    "write.csv(summary(outd_g_y)$coefficients,\"../results/yot_coefs_d_GE.csv\")\n",
    "\n",
    "write.csv(summary(outw_y)$coefficients,\"../results/yot_coefs_w.csv\")\n",
    "write.csv(summary(outw_g_y)$coefficients,\"../results/yot_coefs_w_GE.csv\")"
   ]
  },
  {
   "cell_type": "code",
   "execution_count": 47,
   "id": "ccecc58d",
   "metadata": {},
   "outputs": [
    {
     "name": "stdout",
     "output_type": "stream",
     "text": [
      "\n",
      "% Table created by stargazer v.5.2.3 by Marek Hlavac, Social Policy Institute. E-mail: marek.hlavac at gmail.com\n",
      "% Date and time: Tue, Dec 10, 2024 - 5:00:10 PM\n",
      "\\begin{table}[!htbp] \\centering \n",
      "  \\caption{} \n",
      "  \\label{} \n",
      "\\begin{tabular}{@{\\extracolsep{5pt}}lcccccc} \n",
      "\\\\[-1.8ex]\\hline \n",
      "\\hline \\\\[-1.8ex] \n",
      " & \\multicolumn{6}{c}{\\textit{Dependent variable:}} \\\\ \n",
      "\\cline{2-7} \n",
      "\\\\[-1.8ex] & \\multicolumn{2}{c}{diff\\_kg\\_j} & \\multicolumn{2}{c}{diff\\_kg\\_d} & \\multicolumn{2}{c}{diff\\_kg\\_w} \\\\ \n",
      "\\\\[-1.8ex] & (1) & (2) & (3) & (4) & (5) & (6)\\\\ \n",
      "\\hline \\\\[-1.8ex] \n",
      " Year Trend & 25.225$^{***}$ &  & 26.413$^{***}$ &  & 25.664$^{***}$ &  \\\\ \n",
      "  & (3.534) &  & (3.069) &  & (4.073) &  \\\\ \n",
      "  & & & & & & \\\\ \n",
      " year &  & 32.769$^{***}$ &  & 33.687$^{***}$ &  & 29.896$^{***}$ \\\\ \n",
      "  &  & (4.606) &  & (3.910) &  & (5.158) \\\\ \n",
      "  & & & & & & \\\\ \n",
      "\\hline \\\\[-1.8ex] \n",
      "Observations & 23,207 & 23,207 & 23,207 & 23,207 & 27,233 & 27,233 \\\\ \n",
      "Adjusted R$^{2}$ & 0.449 & 0.455 & 0.455 & 0.460 & 0.375 & 0.378 \\\\ \n",
      "\\hline \n",
      "\\hline \\\\[-1.8ex] \n",
      "\\textit{Note:}  & \\multicolumn{6}{r}{$^{*}$p$<$0.1; $^{**}$p$<$0.05; $^{***}$p$<$0.01} \\\\ \n",
      "\\end{tabular} \n",
      "\\end{table} \n"
     ]
    }
   ],
   "source": [
    "stargazer(c(compare_gg2_x_y,compare_gg3_x_y),\n",
    "          keep=\"year\",\n",
    "          keep.stat = c(\"adj.rsq\",\"n\"),\n",
    "          covariate.labels=c(\"Year Trend\"))          "
   ]
  },
  {
   "cell_type": "code",
   "execution_count": null,
   "id": "c85bf7d7-b233-4d69-a019-0bd76562d271",
   "metadata": {},
   "outputs": [],
   "source": []
  }
 ],
 "metadata": {
  "kernelspec": {
   "display_name": "R",
   "language": "R",
   "name": "ir"
  },
  "language_info": {
   "codemirror_mode": "r",
   "file_extension": ".r",
   "mimetype": "text/x-r-source",
   "name": "R",
   "pygments_lexer": "r",
   "version": "4.4.1"
  }
 },
 "nbformat": 4,
 "nbformat_minor": 5
}
