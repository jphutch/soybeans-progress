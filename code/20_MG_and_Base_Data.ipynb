{
 "cells": [
  {
   "cell_type": "code",
   "execution_count": 1,
   "id": "1cb21a93",
   "metadata": {},
   "outputs": [],
   "source": [
    "import pandas as pd\n",
    "import matplotlib.pyplot as plt\n",
    "import numpy as np\n",
    "# from econtools.metrics import reg\n",
    "import matplotlib \n",
    "from matplotlib.lines import Line2D\n",
    "\n",
    "pd.set_option(\"display.max_columns\",50)\n",
    "%matplotlib inline"
   ]
  },
  {
   "cell_type": "code",
   "execution_count": 2,
   "id": "13282584",
   "metadata": {},
   "outputs": [
    {
     "name": "stderr",
     "output_type": "stream",
     "text": [
      "C:\\Users\\jhtchns2\\AppData\\Local\\Temp\\ipykernel_9820\\2835673221.py:2: DtypeWarning: Columns (13,24,102,104,106) have mixed types. Specify dtype option on import or set low_memory=False.\n",
      "  d = pd.read_csv(\"../data/output_data/soybeans_95_20.csv\")\n",
      "C:\\Users\\jhtchns2\\AppData\\Local\\Temp\\ipykernel_9820\\2835673221.py:7: FutureWarning: The default value of regex will change from True to False in a future version. In addition, single character regular expressions will *not* be treated as literal strings when regex=True.\n",
      "  d['variety_id'] = d['variety_id'].str.replace(\".\",\"\")\n"
     ]
    }
   ],
   "source": [
    "# Read in yield data\n",
    "d = pd.read_csv(\"../data/output_data/soybeans_95_20.csv\")\n",
    "\n",
    "# Convert from bu/acre to kg/ha\n",
    "d['yield_kg'] = (d['yield'] * 67.25)\n",
    "d['variety_id'] = d['company_name'] + \"-\" + d['variety'].str.replace(\" \",\"_\").str.replace(\"-\",\"_\").str.upper()\n",
    "d['variety_id'] = d['variety_id'].str.replace(\".\",\"\")\n",
    "d['variety_id'] = d['variety_id'].apply(lambda x: x.replace(\"__\",\"\"))\n",
    "\n",
    "# Combine the lodging score:\n",
    "d['lodging'] = d.lodging.round(1)\n",
    "\n",
    "d['lodging_comb'] = d['lodging']\n",
    "d.loc[pd.isnull(d['lodging_comb']),\"lodging_comb\"] = d['lodging05'].round(1)\n",
    "\n",
    "# Mislabeled location\n",
    "d['location'] = d.location.str.replace(\"mtmorris\",\"mt_morris\")\n",
    "\n",
    "# Read in entries\n",
    "E = pd.read_csv(\"../data/Illinois_Variety_Trials/entries_97_20.csv\")\n",
    "E['mgroup'] = E.maturity.apply(lambda x: str(x).split(\".\")[0])\n",
    "\n",
    "# Read in where company participated\n",
    "first_il = pd.read_csv(\"../data/Illinois_Variety_Trials/FIRST_or_IL.csv\")\n",
    "E = E.merge(first_il,how=\"left\").drop_duplicates()\n",
    "\n",
    "d = d.merge(E[['variety','company','year','mgroup','first_il']],\n",
    "           on = ['variety','company','year'],\n",
    "           how=\"left\",\n",
    "           suffixes=[\"\",\"_entries\"])"
   ]
  },
  {
   "cell_type": "code",
   "execution_count": 3,
   "id": "c14821c7",
   "metadata": {},
   "outputs": [
    {
     "name": "stderr",
     "output_type": "stream",
     "text": [
      "C:\\Users\\jhtchns2\\AppData\\Local\\Temp\\ipykernel_9820\\2370693026.py:8: FutureWarning: The default value of regex will change from True to False in a future version. In addition, single character regular expressions will *not* be treated as literal strings when regex=True.\n",
      "  .str.replace(\".\",\"\")\n"
     ]
    }
   ],
   "source": [
    "weather = pd.read_csv(\"../data/Illinois_Variety_Trials/rainfall.csv\").iloc[:,:8]\n",
    "\n",
    "weather.columns = ['location','ppt_april','ppt_may','ppt_june','ppt_july','ppt_aug','ppt_sept','year']\n",
    "\n",
    "weather['location'] = weather.location.str.strip()\\\n",
    "                                      .str.lower()\\\n",
    "                                      .str.replace(\" \",\"_\")\\\n",
    "                                      .str.replace(\".\",\"\")\n",
    "\n",
    "weather = weather.set_index([\"location\",'year']).astype(float).reset_index()\n",
    "\n",
    "for x in weather.columns[2:]:\n",
    "    weather[x+\"_sqr\"] = weather[x]**2\n",
    "\n",
    "d = d.merge(weather,on=['location','year'],how='left')"
   ]
  },
  {
   "cell_type": "code",
   "execution_count": 4,
   "id": "dbb68949",
   "metadata": {},
   "outputs": [],
   "source": [
    "planting = pd.read_csv(\"../data/Illinois_Variety_Trials/harvest_dates.csv\")\n",
    "\n",
    "planting['location'] = planting['location'].str.strip()\\\n",
    "                                           .str.replace(\" \",\"_\")\n",
    "\n",
    "planting['plant_date'] = pd.to_datetime(planting['plant_date'])\n",
    "planting['harvest_date'] = pd.to_datetime(planting['harvest_date'])\n",
    "\n",
    "planting['planting_week'] = \\\n",
    "[x.strftime(\"%V\") if x!=-1 else np.nan for x in planting['plant_date'].fillna(-1)]\n",
    "\n",
    "planting.loc[planting['planting_week']>=\"23\",\"planting_week\"] = \">= 23\"\n",
    "\n",
    "planting['harvest_week'] = \\\n",
    "[x.strftime(\"%V\") if x!=-1 else np.nan for x in planting['harvest_date'].fillna(-1)]\n",
    "\n",
    "d = d.merge(planting,on=['location','year'],how='left')"
   ]
  },
  {
   "cell_type": "code",
   "execution_count": 5,
   "id": "a10cffae",
   "metadata": {},
   "outputs": [
    {
     "name": "stderr",
     "output_type": "stream",
     "text": [
      "C:\\Users\\jhtchns2\\AppData\\Local\\Temp\\ipykernel_9820\\73481558.py:6: FutureWarning: The default value of regex will change from True to False in a future version. In addition, single character regular expressions will *not* be treated as literal strings when regex=True.\n",
      "  .str.replace(\".\",\"\")\n",
      "C:\\Users\\jhtchns2\\AppData\\Local\\Temp\\ipykernel_9820\\73481558.py:9: FutureWarning: The default value of regex will change from True to False in a future version. In addition, single character regular expressions will *not* be treated as literal strings when regex=True.\n",
      "  .str.replace(\".\",\"\")\n",
      "C:\\Users\\jhtchns2\\AppData\\Local\\Temp\\ipykernel_9820\\73481558.py:22: FutureWarning: The default value of regex will change from True to False in a future version. In addition, single character regular expressions will *not* be treated as literal strings when regex=True.\n",
      "  w['location'] = w['Location'].str.lower().str.replace(\" \",\"_\").str.replace(\".\",\"\")\n"
     ]
    }
   ],
   "source": [
    "locs = pd.read_excel(\"../data/Illinois_Variety_Trials/plot_locations.xlsx\")\n",
    "w = pd.read_csv(\"../data/PRISM/out.csv\")\n",
    "w = w.drop_duplicates()\n",
    "\n",
    "w['county'] = w['NAME'].str.lower()\\\n",
    "                       .str.replace(\".\",\"\")\n",
    "\n",
    "locs['county'] = locs['County'].str.lower()\\\n",
    "                               .str.replace(\".\",\"\")\n",
    "\n",
    "w['FIPS'] = w['STATEFP'].astype(str) + \\\n",
    "            w['COUNTYFP'].astype(str).str.zfill(3)\n",
    "\n",
    "locs[\"FIPS\"] = locs[\"FIPS\"].astype(str)\n",
    "\n",
    "w = w.merge(locs,on=\"FIPS\")\n",
    "\n",
    "w = w.set_index(['Location','year','month'])[['tmin','tmax','tmean']]\n",
    "w = w.unstack()\n",
    "w.columns = [x[0]+\"_\"+str(x[1]) for x in w.columns.values]\n",
    "w = w.reset_index()\n",
    "w['location'] = w['Location'].str.lower().str.replace(\" \",\"_\").str.replace(\".\",\"\")\n",
    "\n",
    "temp_cols = w.columns[2:-1]\n",
    "\n",
    "d = d.merge(w,on=[\"location\",'year'],how=\"left\")"
   ]
  },
  {
   "cell_type": "code",
   "execution_count": 6,
   "id": "63f0e2c7",
   "metadata": {},
   "outputs": [],
   "source": [
    "d['maturity'] = d.maturity.astype(float)\n",
    "\n",
    "# Maturity week\n",
    "d['maturity_week'] = [x.strftime(\"%V\") \n",
    "                          if x!=-1 \n",
    "                          else np.nan \n",
    "                              for x in pd.to_datetime(d['maturity_date']).fillna(-1)]\n",
    "\n",
    "# Seed treatment dummy\n",
    "d['seed_treated'] = (d['seed_treat_entry'].fillna(\"U\") !=\"U\").astype(float)\n",
    "d.loc[pd.isnull(d.seed_treat_entry),'seed_treated'] = np.nan\n",
    "\n",
    "# Soybean cyst nematode resistance (S = susceptible)\n",
    "d['scn_resist'] = (d.sn!=\"S\").astype(float)\n",
    "d.loc[pd.isnull(d.sn),'scn_resist'] = np.nan\n",
    "d.loc[d.sn==\".\",'scn_resist'] = np.nan\n",
    "\n",
    "# Public variety names\n",
    "d['jack'] = d['variety'].str.lower() == \"jack\"\n",
    "\n",
    "d['dwight'] = d['variety'].str.lower().str.contains(\"dwight\")\n",
    "\n",
    "d['williams'] = d['variety'].str.lower().str.contains(\"williams\")\n",
    "\n",
    "# Company panel variables\n",
    "companies = d.groupby([\"year\",\"company_name\"])['variety'].nunique().unstack()\n",
    "\n",
    "company_counts_00_20 = companies.loc[2000:].count().sort_values()\n",
    "companies_00_20 = company_counts_00_20[company_counts_00_20>18].index\n",
    "\n",
    "company_counts_95_20 = companies.count().sort_values()\n",
    "companies_95_20 = company_counts_95_20[company_counts_95_20>23].index\n",
    "\n",
    "d['company_panel_95'] = d.company_name.isin(companies_95_20)\n",
    "d['company_panel_00'] = d.company_name.isin(companies_00_20)\n",
    "\n",
    "# Company participation in FIRST\n",
    "d['il_and_first'] = (d['first_il'] == \"IL_and_FIRST\").astype(int)\n",
    "company_status = d.groupby(\"company_name\")['il_and_first'].max().reset_index()\n",
    "d = d.merge(company_status,how='left',on=\"company_name\",suffixes=[\"\",\"_max\"])\n",
    "\n",
    "# First year variety appeared in trials\n",
    "first_year = d.groupby(\"variety_id\")['year'].min().reset_index()\n",
    "first_year.columns = ['variety_id',\"first_year\"]\n",
    "d = d.merge(first_year,how=\"left\",on=\"variety_id\")"
   ]
  },
  {
   "cell_type": "code",
   "execution_count": 8,
   "id": "741c5c81",
   "metadata": {},
   "outputs": [],
   "source": [
    "d3 = d[(d.location!=\"region\")&\\\n",
    "      ((d.maturity_range.astype(str).str.contains(\"3\"))|\\\n",
    "       (d['maturity_range']==3)|\\\n",
    "       ((d['maturity']>2.9)&(d['maturity']<4)))]\n",
    "\n",
    "d2 = d[(d.location!=\"region\")&\\\n",
    "      ((d.maturity_range.astype(str).str.contains(\"2\"))|\\\n",
    "       (d['maturity_range']==2)|\\\n",
    "       (d['mgroup'].astype(str).str.contains(\"2\"))|\n",
    "       ((d['maturity']>1.9)&(d['maturity']<3)))]"
   ]
  },
  {
   "cell_type": "code",
   "execution_count": 10,
   "id": "e6ae9117",
   "metadata": {},
   "outputs": [],
   "source": [
    "d.to_csv(\"../data/output_data/Full_Trial_Data.csv\",index=False)\n",
    "d2.to_csv(\"../data/output_data/MG2_Data.csv\",index=False)\n",
    "d3.to_csv(\"../data/output_data/MG3_Data.csv\",index=False)"
   ]
  },
  {
   "cell_type": "code",
   "execution_count": 11,
   "id": "6b287a42",
   "metadata": {},
   "outputs": [],
   "source": [
    "id_vars = ['year','first_year','region','location',\"company_name\",'variety_id',\n",
    "           'company_panel_00','company_panel_95','first_il',\"il_and_first_max\",\"first_year\"]\n",
    "x_vars = ['type',\"height\",'lodging','maturity_week',\\\n",
    "          \"seed_treated\",'lodging_comb',\"scn_resist\",\n",
    "          \"GE\",\"gddp10\",\"ppt\",\"soybean_rm12_JAN\",\"corn_rm12_JAN\",\n",
    "          \"planting_week\",\"harvest_week\",\\\n",
    "          \"ppt_may\",\"ppt_june\",\"ppt_july\",\"ppt_aug\",\"ppt_sept\",\n",
    "          \"ppt_may_sqr\",\"ppt_june_sqr\",\"ppt_july_sqr\",\"ppt_aug_sqr\",\"ppt_sept_sqr\"]+ list(temp_cols)\n",
    "cols = [\"yield\",\"yield_kg\"] + id_vars + x_vars\n",
    "\n",
    "private_vars = ['year','region','location','yield','yield_kg',\"height\",\\\n",
    "                    \"lodging_comb\",\"maturity_week\",\\\n",
    "                    \"seed_treated\",\"scn_resist\",\"planting_week\",\"harvest_week\"]"
   ]
  },
  {
   "cell_type": "code",
   "execution_count": 13,
   "id": "10e664e0",
   "metadata": {},
   "outputs": [],
   "source": [
    "# Non-public varieties in the maturity group III\n",
    "private3 = d3[~d3['public_variety']][cols]\n",
    "\n",
    "# Williams yield only\n",
    "W = d3[d3['williams']][private_vars]\n",
    "# W = W.rename(columns={\"yield\":\"williams_yield\"})\n",
    "\n",
    "# Merge to the private yields\n",
    "private3 = private3.merge(W,on=['year','region','location'],how='left',suffixes=[\"\",\"_w\"])\n",
    "\n",
    "# Subtract the difference\n",
    "private3['diff_w'] = private3['yield'] - private3['yield_w']\n",
    "private3['diff_kg_w'] = private3['yield_kg'] - private3['yield_kg_w']\n",
    "\n",
    "# Non-public varieties in the maturity group II\n",
    "private2 = d2[~d2['public_variety']][cols]\n",
    "\n",
    "\n",
    "\n",
    "# Jack and Dwight yields\n",
    "J = d2[d2['jack']][private_vars]\n",
    "\n",
    "D = d2[d2['dwight']][private_vars]\n",
    "\n",
    "# Merge and difference\n",
    "private2 = private2.merge(J,on=['year','region','location'],how='left',suffixes=[\"\",\"_j\"])\n",
    "\n",
    "private2['diff_j'] = private2['yield'] - private2['yield_j']\n",
    "private2['diff_kg_j'] = private2['yield_kg'] - private2['yield_kg_j']\n",
    "\n",
    "\n",
    "private2 = private2.merge(D,on=['year','region','location'],how='left',suffixes=[\"\",\"_d\"])\n",
    "\n",
    "private2['diff_d'] = private2['yield'] - private2['yield_d']\n",
    "private2['diff_kg_d'] = private2['yield_kg'] - private2['yield_kg_d']"
   ]
  },
  {
   "cell_type": "code",
   "execution_count": 14,
   "id": "0009dc82",
   "metadata": {},
   "outputs": [],
   "source": [
    "private2.to_csv(\"../data/output_data/MG2_Private.csv\",index=False)\n",
    "private3.to_csv(\"../data/output_data/MG3_Private.csv\",index=False)"
   ]
  }
 ],
 "metadata": {
  "kernelspec": {
   "display_name": "Python 3 (ipykernel)",
   "language": "python",
   "name": "python3"
  },
  "language_info": {
   "codemirror_mode": {
    "name": "ipython",
    "version": 3
   },
   "file_extension": ".py",
   "mimetype": "text/x-python",
   "name": "python",
   "nbconvert_exporter": "python",
   "pygments_lexer": "ipython3",
   "version": "3.8.20"
  }
 },
 "nbformat": 4,
 "nbformat_minor": 5
}
